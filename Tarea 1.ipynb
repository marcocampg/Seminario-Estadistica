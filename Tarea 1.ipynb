{
 "cells": [
  {
   "cell_type": "markdown",
   "metadata": {},
   "source": [
    "---------\n",
    "\n",
    "# Tarea 1\n",
    "\n",
    "## Problema 1\n",
    "\n",
    "El objetivo de las bases es que realicemos un modelo de clasificación para poder contestar la siguiente pregunta:\n",
    "\n",
    "      ¿Damos un crédito bancario o no?\n",
    "\n",
    "Para empezar con la exploración de la base, tendrán que generar un análisis descriptivo de la información que les compartiré:\n",
    "\n",
    " - 1.- Los campos _id_ que son los identificadores de la información.\n",
    " - 2.- base_ini_interna (csv)\n",
    " - 3.- base_ini_parte1 (csv)\n",
    " - 4.- base_ini_externa (txt)\n",
    " - 5.- bases de comportamiento ( 2 txt, 3 csv )\n",
    " - 6.- base_inversión, es una variable simulada de una gamma (txt), es\n",
    " - 7.- Cuando una variable es categórica, está implícito en el nombre de la base. No tenemos un diccionario, simplemente que son categóricas.\n",
    " - 8.- El resto entonces son continuas. Es decir, los nombre estám enmascarados, ni siquiera yo sé qué significan.\n",
    " \n",
    "\n",
    "¿Cómo hago los cruces? Exploren la información.\n",
    "\n",
    "¿Qué análisis puedo realizar? Exploren ustedes, apóyense de los comportamientos de los ids.\n",
    "\n",
    "Pero... ¿Las preguntas son abiertas? Así es, quiero que exploren. Hay bases que vienen en csv y otras en txt. Vean como tratarlas.\n",
    "\n",
    "----\n",
    "\n",
    "El resto de las tarea, son las preguntas que les dejé el dìa miércoles. Les coparto los programas que utilizamos.\n",
    "Pero resumo un poco:\n",
    "\n",
    "----\n",
    "\n",
    "## Problema 2\n",
    "\n",
    "De la base data_schools sacar obtener el error estándar con Bootstrap de las variables de la base. \n",
    "Recordemos que tienen que simular N Muestras Boostrap con tamño n. Luego, el otro ejercicio es que lo hagan con n-1.\n",
    "\n",
    "\n",
    "## Problema 3\n",
    "\n",
    "Calcular el eror estándar de las betas del modelo lineal, les expliqué la idea de este problema"
   ]
  },
  {
   "cell_type": "markdown",
   "metadata": {},
   "source": [
    "-------\n",
    "----------\n",
    "## Problema 1"
   ]
  },
  {
   "cell_type": "markdown",
   "metadata": {},
   "source": [
    "------\n",
    "Importamos nuestras librerias\n",
    "\n",
    "------"
   ]
  },
  {
   "cell_type": "code",
   "execution_count": 1,
   "metadata": {},
   "outputs": [
    {
     "data": {
      "text/html": [
       " <style>\n",
       "         .output_png { display: table-cell;\n",
       "                       text-align: center;\n",
       "                       vertical-align: middle;\n",
       "                     }\n",
       "         </style>\n",
       "     "
      ],
      "text/plain": [
       "<IPython.core.display.HTML object>"
      ]
     },
     "execution_count": 1,
     "metadata": {},
     "output_type": "execute_result"
    }
   ],
   "source": [
    "%matplotlib inline\n",
    "\n",
    "import pandas as pd\n",
    "import matplotlib.pyplot as plt\n",
    "import seaborn as sns\n",
    "import numpy as np \n",
    "import matplotlib as mpl\n",
    "import collections as cl\n",
    "\n",
    "sns.set_style('white')\n",
    "\n",
    "from IPython.core.display import HTML\n",
    "HTML(\"\"\" <style>\n",
    "         .output_png { display: table-cell;\n",
    "                       text-align: center;\n",
    "                       vertical-align: middle;\n",
    "                     }\n",
    "         </style>\n",
    "     \"\"\")"
   ]
  },
  {
   "cell_type": "markdown",
   "metadata": {},
   "source": [
    "------\n",
    "Cargamos nuestras bases\n",
    "\n",
    "------"
   ]
  },
  {
   "cell_type": "code",
   "execution_count": 2,
   "metadata": {},
   "outputs": [],
   "source": [
    "df1 = pd.read_csv('base_ini_interna.csv')\n",
    "df2 = pd.read_csv('base_ini_parte1.csv')\n",
    "df3 = pd.read_csv('base_ini_externa.txt', sep = \" \")\n",
    "df4 = pd.read_csv('base_comportamiento_2.txt', sep = \" \")\n",
    "df5 = pd.read_csv('base_comportamiento_3.csv')\n",
    "df6 = pd.read_csv('base_inversion.txt', sep = \" \")"
   ]
  },
  {
   "cell_type": "markdown",
   "metadata": {},
   "source": [
    "Visualizamos los primeros renglones"
   ]
  },
  {
   "cell_type": "code",
   "execution_count": 3,
   "metadata": {
    "scrolled": false
   },
   "outputs": [
    {
     "data": {
      "text/html": [
       "<div>\n",
       "<style scoped>\n",
       "    .dataframe tbody tr th:only-of-type {\n",
       "        vertical-align: middle;\n",
       "    }\n",
       "\n",
       "    .dataframe tbody tr th {\n",
       "        vertical-align: top;\n",
       "    }\n",
       "\n",
       "    .dataframe thead th {\n",
       "        text-align: right;\n",
       "    }\n",
       "</style>\n",
       "<table border=\"1\" class=\"dataframe\">\n",
       "  <thead>\n",
       "    <tr style=\"text-align: right;\">\n",
       "      <th></th>\n",
       "      <th>_id_</th>\n",
       "      <th>fecha_inicio</th>\n",
       "      <th>comp_interno1</th>\n",
       "      <th>comp_interno2</th>\n",
       "      <th>comp_interno3</th>\n",
       "      <th>comp_interno4</th>\n",
       "      <th>categoria1</th>\n",
       "      <th>categoria2</th>\n",
       "      <th>categoria3</th>\n",
       "    </tr>\n",
       "  </thead>\n",
       "  <tbody>\n",
       "    <tr>\n",
       "      <th>0</th>\n",
       "      <td>78213</td>\n",
       "      <td>2020-03-25</td>\n",
       "      <td>0.0</td>\n",
       "      <td>b'0'</td>\n",
       "      <td>11.0</td>\n",
       "      <td>58.0</td>\n",
       "      <td>2.0</td>\n",
       "      <td>9.0</td>\n",
       "      <td>156.0</td>\n",
       "    </tr>\n",
       "    <tr>\n",
       "      <th>1</th>\n",
       "      <td>76457</td>\n",
       "      <td>2020-02-13</td>\n",
       "      <td>0.0</td>\n",
       "      <td>b'1'</td>\n",
       "      <td>28.0</td>\n",
       "      <td>45.0</td>\n",
       "      <td>1.0</td>\n",
       "      <td>4.0</td>\n",
       "      <td>173.0</td>\n",
       "    </tr>\n",
       "  </tbody>\n",
       "</table>\n",
       "</div>"
      ],
      "text/plain": [
       "    _id_ fecha_inicio  comp_interno1 comp_interno2  comp_interno3  \\\n",
       "0  78213   2020-03-25            0.0          b'0'           11.0   \n",
       "1  76457   2020-02-13            0.0          b'1'           28.0   \n",
       "\n",
       "   comp_interno4  categoria1  categoria2  categoria3  \n",
       "0           58.0         2.0         9.0       156.0  \n",
       "1           45.0         1.0         4.0       173.0  "
      ]
     },
     "metadata": {},
     "output_type": "display_data"
    },
    {
     "data": {
      "text/html": [
       "<div>\n",
       "<style scoped>\n",
       "    .dataframe tbody tr th:only-of-type {\n",
       "        vertical-align: middle;\n",
       "    }\n",
       "\n",
       "    .dataframe tbody tr th {\n",
       "        vertical-align: top;\n",
       "    }\n",
       "\n",
       "    .dataframe thead th {\n",
       "        text-align: right;\n",
       "    }\n",
       "</style>\n",
       "<table border=\"1\" class=\"dataframe\">\n",
       "  <thead>\n",
       "    <tr style=\"text-align: right;\">\n",
       "      <th></th>\n",
       "      <th>_id_</th>\n",
       "      <th>_id2_</th>\n",
       "      <th>comp_mixto1</th>\n",
       "    </tr>\n",
       "  </thead>\n",
       "  <tbody>\n",
       "    <tr>\n",
       "      <th>0</th>\n",
       "      <td>78213</td>\n",
       "      <td>1798899</td>\n",
       "      <td>0.33522</td>\n",
       "    </tr>\n",
       "    <tr>\n",
       "      <th>1</th>\n",
       "      <td>76457</td>\n",
       "      <td>1758511</td>\n",
       "      <td>0.33334</td>\n",
       "    </tr>\n",
       "  </tbody>\n",
       "</table>\n",
       "</div>"
      ],
      "text/plain": [
       "    _id_    _id2_  comp_mixto1\n",
       "0  78213  1798899      0.33522\n",
       "1  76457  1758511      0.33334"
      ]
     },
     "metadata": {},
     "output_type": "display_data"
    },
    {
     "data": {
      "text/html": [
       "<div>\n",
       "<style scoped>\n",
       "    .dataframe tbody tr th:only-of-type {\n",
       "        vertical-align: middle;\n",
       "    }\n",
       "\n",
       "    .dataframe tbody tr th {\n",
       "        vertical-align: top;\n",
       "    }\n",
       "\n",
       "    .dataframe thead th {\n",
       "        text-align: right;\n",
       "    }\n",
       "</style>\n",
       "<table border=\"1\" class=\"dataframe\">\n",
       "  <thead>\n",
       "    <tr style=\"text-align: right;\">\n",
       "      <th></th>\n",
       "      <th>_id_</th>\n",
       "      <th>comp_externo1</th>\n",
       "      <th>comp_externo2</th>\n",
       "      <th>comp_externo3</th>\n",
       "      <th>comp_externo4</th>\n",
       "    </tr>\n",
       "  </thead>\n",
       "  <tbody>\n",
       "    <tr>\n",
       "      <th>0</th>\n",
       "      <td>78213</td>\n",
       "      <td>260.869565</td>\n",
       "      <td>25.854639</td>\n",
       "      <td>56.0</td>\n",
       "      <td>-230.0</td>\n",
       "    </tr>\n",
       "    <tr>\n",
       "      <th>1</th>\n",
       "      <td>76457</td>\n",
       "      <td>40.579710</td>\n",
       "      <td>2.872738</td>\n",
       "      <td>62.0</td>\n",
       "      <td>-230.0</td>\n",
       "    </tr>\n",
       "  </tbody>\n",
       "</table>\n",
       "</div>"
      ],
      "text/plain": [
       "    _id_  comp_externo1  comp_externo2  comp_externo3  comp_externo4\n",
       "0  78213     260.869565      25.854639           56.0         -230.0\n",
       "1  76457      40.579710       2.872738           62.0         -230.0"
      ]
     },
     "metadata": {},
     "output_type": "display_data"
    },
    {
     "data": {
      "text/html": [
       "<div>\n",
       "<style scoped>\n",
       "    .dataframe tbody tr th:only-of-type {\n",
       "        vertical-align: middle;\n",
       "    }\n",
       "\n",
       "    .dataframe tbody tr th {\n",
       "        vertical-align: top;\n",
       "    }\n",
       "\n",
       "    .dataframe thead th {\n",
       "        text-align: right;\n",
       "    }\n",
       "</style>\n",
       "<table border=\"1\" class=\"dataframe\">\n",
       "  <thead>\n",
       "    <tr style=\"text-align: right;\">\n",
       "      <th></th>\n",
       "      <th>num_caso</th>\n",
       "      <th>mes_informacion</th>\n",
       "      <th>Tiempo_aparicion</th>\n",
       "    </tr>\n",
       "  </thead>\n",
       "  <tbody>\n",
       "    <tr>\n",
       "      <th>0</th>\n",
       "      <td>1</td>\n",
       "      <td>2016-04-01 00:00:00</td>\n",
       "      <td>0.0</td>\n",
       "    </tr>\n",
       "    <tr>\n",
       "      <th>1</th>\n",
       "      <td>1</td>\n",
       "      <td>2016-05-01 00:00:00</td>\n",
       "      <td>1.0</td>\n",
       "    </tr>\n",
       "  </tbody>\n",
       "</table>\n",
       "</div>"
      ],
      "text/plain": [
       "   num_caso      mes_informacion  Tiempo_aparicion\n",
       "0         1  2016-04-01 00:00:00               0.0\n",
       "1         1  2016-05-01 00:00:00               1.0"
      ]
     },
     "metadata": {},
     "output_type": "display_data"
    },
    {
     "data": {
      "text/html": [
       "<div>\n",
       "<style scoped>\n",
       "    .dataframe tbody tr th:only-of-type {\n",
       "        vertical-align: middle;\n",
       "    }\n",
       "\n",
       "    .dataframe tbody tr th {\n",
       "        vertical-align: top;\n",
       "    }\n",
       "\n",
       "    .dataframe thead th {\n",
       "        text-align: right;\n",
       "    }\n",
       "</style>\n",
       "<table border=\"1\" class=\"dataframe\">\n",
       "  <thead>\n",
       "    <tr style=\"text-align: right;\">\n",
       "      <th></th>\n",
       "      <th>num_caso</th>\n",
       "      <th>mes_informacion</th>\n",
       "      <th>comportamiento_j</th>\n",
       "    </tr>\n",
       "  </thead>\n",
       "  <tbody>\n",
       "    <tr>\n",
       "      <th>0</th>\n",
       "      <td>1</td>\n",
       "      <td>2016-04-01 00:00:00</td>\n",
       "      <td>0.0</td>\n",
       "    </tr>\n",
       "    <tr>\n",
       "      <th>1</th>\n",
       "      <td>1</td>\n",
       "      <td>2016-05-01 00:00:00</td>\n",
       "      <td>0.0</td>\n",
       "    </tr>\n",
       "  </tbody>\n",
       "</table>\n",
       "</div>"
      ],
      "text/plain": [
       "   num_caso      mes_informacion  comportamiento_j\n",
       "0         1  2016-04-01 00:00:00               0.0\n",
       "1         1  2016-05-01 00:00:00               0.0"
      ]
     },
     "metadata": {},
     "output_type": "display_data"
    },
    {
     "data": {
      "text/html": [
       "<div>\n",
       "<style scoped>\n",
       "    .dataframe tbody tr th:only-of-type {\n",
       "        vertical-align: middle;\n",
       "    }\n",
       "\n",
       "    .dataframe tbody tr th {\n",
       "        vertical-align: top;\n",
       "    }\n",
       "\n",
       "    .dataframe thead th {\n",
       "        text-align: right;\n",
       "    }\n",
       "</style>\n",
       "<table border=\"1\" class=\"dataframe\">\n",
       "  <thead>\n",
       "    <tr style=\"text-align: right;\">\n",
       "      <th></th>\n",
       "      <th>_id2_</th>\n",
       "      <th>inversion</th>\n",
       "    </tr>\n",
       "  </thead>\n",
       "  <tbody>\n",
       "    <tr>\n",
       "      <th>0</th>\n",
       "      <td>1758511</td>\n",
       "      <td>0.041039</td>\n",
       "    </tr>\n",
       "    <tr>\n",
       "      <th>1</th>\n",
       "      <td>1572947</td>\n",
       "      <td>77.422135</td>\n",
       "    </tr>\n",
       "  </tbody>\n",
       "</table>\n",
       "</div>"
      ],
      "text/plain": [
       "     _id2_  inversion\n",
       "0  1758511   0.041039\n",
       "1  1572947  77.422135"
      ]
     },
     "metadata": {},
     "output_type": "display_data"
    }
   ],
   "source": [
    "display(df1.head(2))\n",
    "display(df2.head(2))\n",
    "display(df3.head(2))\n",
    "display(df4.head(2))\n",
    "display(df5.head(2))\n",
    "display(df6.head(2))"
   ]
  },
  {
   "cell_type": "markdown",
   "metadata": {},
   "source": [
    "------\n",
    "Observemos los datos únicos de cada tabla y si hay duplicados\n",
    "\n",
    "------"
   ]
  },
  {
   "cell_type": "code",
   "execution_count": 4,
   "metadata": {},
   "outputs": [
    {
     "name": "stdout",
     "output_type": "stream",
     "text": [
      "Datos brutos tabla 01             :     50,000\n",
      "Datos unicos en _id_ tabla 01     :     50,000\n",
      "\n",
      "\n",
      "Datos brutos tabla 02             :     50,000\n",
      "Datos unicos en _id_ tabla 02     :     50,000\n",
      "\n",
      "\n",
      "Datos brutos tabla 03             :     50,000\n",
      "Datos unicos en _id_ tabla 03     :     50,000\n",
      "\n",
      "\n",
      "Datos brutos tabla 04             :  1,455,536\n",
      "Datos unicos en num_caso tabla 04 :     49,352\n",
      "\n",
      "\n",
      "Datos brutos tabla 05             :  1,455,536\n",
      "Datos unicos en num_caso tabla 05 :     49,352\n",
      "\n",
      "\n",
      "Datos brutos tabla 06             :     17,536\n",
      "Datos unicos en _id2_ tabla 06    :     17,536\n",
      "\n",
      "\n"
     ]
    }
   ],
   "source": [
    "lst = [df1, df2, df3, df4, df5, df6]\n",
    "for i, lt in enumerate(lst):\n",
    "    print(f'Datos brutos tabla {i + 1:0>2}             : {lt.shape[0]: >10,}')\n",
    "    if '_id_' in lt.columns:\n",
    "        print(f'Datos unicos en _id_ tabla {i + 1:0>2}     : {lt._id_.unique().size : >10,}')\n",
    "    elif 'num_caso' in lt.columns:\n",
    "        print(f'Datos unicos en num_caso tabla {i + 1:0>2} : {lt.num_caso.unique().size : >10,}')\n",
    "    else:\n",
    "        print(f'Datos unicos en _id2_ tabla {i + 1:0>2}    : {lt._id2_.unique().size : >10,}')\n",
    "    \n",
    "    print('\\n')"
   ]
  },
  {
   "cell_type": "markdown",
   "metadata": {},
   "source": [
    "------\n",
    "Ahora haremos la respectivas uniones de las tablas y haremos un análisis de cada una.\n",
    "\n",
    "------"
   ]
  },
  {
   "cell_type": "code",
   "execution_count": 5,
   "metadata": {},
   "outputs": [],
   "source": [
    "tabla = df1.merge(df2, on = '_id_')\n",
    "tabla = tabla.merge(df3, on = '_id_')\n",
    "\n",
    "tabla = tabla.merge(df6, on = '_id2_', how = 'left')\n",
    "tabla_comp = pd.concat([df4, df5], join = 'inner', axis = 1)\n",
    "tabla_comp = tabla_comp.iloc[:, [0,1,2,5]]"
   ]
  },
  {
   "cell_type": "code",
   "execution_count": 6,
   "metadata": {},
   "outputs": [
    {
     "data": {
      "text/html": [
       "<div>\n",
       "<style scoped>\n",
       "    .dataframe tbody tr th:only-of-type {\n",
       "        vertical-align: middle;\n",
       "    }\n",
       "\n",
       "    .dataframe tbody tr th {\n",
       "        vertical-align: top;\n",
       "    }\n",
       "\n",
       "    .dataframe thead th {\n",
       "        text-align: right;\n",
       "    }\n",
       "</style>\n",
       "<table border=\"1\" class=\"dataframe\">\n",
       "  <thead>\n",
       "    <tr style=\"text-align: right;\">\n",
       "      <th></th>\n",
       "      <th>_id_</th>\n",
       "      <th>fecha_inicio</th>\n",
       "      <th>comp_interno1</th>\n",
       "      <th>comp_interno2</th>\n",
       "      <th>comp_interno3</th>\n",
       "      <th>comp_interno4</th>\n",
       "      <th>categoria1</th>\n",
       "      <th>categoria2</th>\n",
       "      <th>categoria3</th>\n",
       "      <th>_id2_</th>\n",
       "      <th>comp_mixto1</th>\n",
       "      <th>comp_externo1</th>\n",
       "      <th>comp_externo2</th>\n",
       "      <th>comp_externo3</th>\n",
       "      <th>comp_externo4</th>\n",
       "      <th>inversion</th>\n",
       "    </tr>\n",
       "  </thead>\n",
       "  <tbody>\n",
       "    <tr>\n",
       "      <th>0</th>\n",
       "      <td>78213</td>\n",
       "      <td>2020-03-25</td>\n",
       "      <td>0.000000</td>\n",
       "      <td>b'0'</td>\n",
       "      <td>11.0</td>\n",
       "      <td>58.0</td>\n",
       "      <td>2.0</td>\n",
       "      <td>9.0</td>\n",
       "      <td>156.0</td>\n",
       "      <td>1798899</td>\n",
       "      <td>0.33522</td>\n",
       "      <td>260.869565</td>\n",
       "      <td>25.854639</td>\n",
       "      <td>56.0</td>\n",
       "      <td>-230.0</td>\n",
       "      <td>NaN</td>\n",
       "    </tr>\n",
       "    <tr>\n",
       "      <th>1</th>\n",
       "      <td>76457</td>\n",
       "      <td>2020-02-13</td>\n",
       "      <td>0.000000</td>\n",
       "      <td>b'1'</td>\n",
       "      <td>28.0</td>\n",
       "      <td>45.0</td>\n",
       "      <td>1.0</td>\n",
       "      <td>4.0</td>\n",
       "      <td>173.0</td>\n",
       "      <td>1758511</td>\n",
       "      <td>0.33334</td>\n",
       "      <td>40.579710</td>\n",
       "      <td>2.872738</td>\n",
       "      <td>62.0</td>\n",
       "      <td>-230.0</td>\n",
       "      <td>0.041039</td>\n",
       "    </tr>\n",
       "    <tr>\n",
       "      <th>2</th>\n",
       "      <td>40666</td>\n",
       "      <td>2018-01-24</td>\n",
       "      <td>0.000000</td>\n",
       "      <td>b'1'</td>\n",
       "      <td>25.0</td>\n",
       "      <td>45.0</td>\n",
       "      <td>1.0</td>\n",
       "      <td>9.0</td>\n",
       "      <td>170.0</td>\n",
       "      <td>935318</td>\n",
       "      <td>0.29186</td>\n",
       "      <td>NaN</td>\n",
       "      <td>NaN</td>\n",
       "      <td>119.0</td>\n",
       "      <td>-230.0</td>\n",
       "      <td>NaN</td>\n",
       "    </tr>\n",
       "    <tr>\n",
       "      <th>3</th>\n",
       "      <td>8329</td>\n",
       "      <td>2016-10-07</td>\n",
       "      <td>0.000000</td>\n",
       "      <td>b'1'</td>\n",
       "      <td>14.0</td>\n",
       "      <td>59.0</td>\n",
       "      <td>3.0</td>\n",
       "      <td>3.0</td>\n",
       "      <td>159.0</td>\n",
       "      <td>191567</td>\n",
       "      <td>0.29112</td>\n",
       "      <td>349.275362</td>\n",
       "      <td>34.616490</td>\n",
       "      <td>94.0</td>\n",
       "      <td>-230.0</td>\n",
       "      <td>NaN</td>\n",
       "    </tr>\n",
       "    <tr>\n",
       "      <th>4</th>\n",
       "      <td>68389</td>\n",
       "      <td>2019-07-30</td>\n",
       "      <td>2026.342452</td>\n",
       "      <td>b'1'</td>\n",
       "      <td>1.0</td>\n",
       "      <td>67.0</td>\n",
       "      <td>2.0</td>\n",
       "      <td>9.0</td>\n",
       "      <td>146.0</td>\n",
       "      <td>1572947</td>\n",
       "      <td>0.27318</td>\n",
       "      <td>276.811594</td>\n",
       "      <td>27.434645</td>\n",
       "      <td>125.0</td>\n",
       "      <td>-230.0</td>\n",
       "      <td>77.422135</td>\n",
       "    </tr>\n",
       "  </tbody>\n",
       "</table>\n",
       "</div>"
      ],
      "text/plain": [
       "    _id_ fecha_inicio  comp_interno1 comp_interno2  comp_interno3  \\\n",
       "0  78213   2020-03-25       0.000000          b'0'           11.0   \n",
       "1  76457   2020-02-13       0.000000          b'1'           28.0   \n",
       "2  40666   2018-01-24       0.000000          b'1'           25.0   \n",
       "3   8329   2016-10-07       0.000000          b'1'           14.0   \n",
       "4  68389   2019-07-30    2026.342452          b'1'            1.0   \n",
       "\n",
       "   comp_interno4  categoria1  categoria2  categoria3    _id2_  comp_mixto1  \\\n",
       "0           58.0         2.0         9.0       156.0  1798899      0.33522   \n",
       "1           45.0         1.0         4.0       173.0  1758511      0.33334   \n",
       "2           45.0         1.0         9.0       170.0   935318      0.29186   \n",
       "3           59.0         3.0         3.0       159.0   191567      0.29112   \n",
       "4           67.0         2.0         9.0       146.0  1572947      0.27318   \n",
       "\n",
       "   comp_externo1  comp_externo2  comp_externo3  comp_externo4  inversion  \n",
       "0     260.869565      25.854639           56.0         -230.0        NaN  \n",
       "1      40.579710       2.872738           62.0         -230.0   0.041039  \n",
       "2            NaN            NaN          119.0         -230.0        NaN  \n",
       "3     349.275362      34.616490           94.0         -230.0        NaN  \n",
       "4     276.811594      27.434645          125.0         -230.0  77.422135  "
      ]
     },
     "metadata": {},
     "output_type": "display_data"
    },
    {
     "data": {
      "text/html": [
       "<div>\n",
       "<style scoped>\n",
       "    .dataframe tbody tr th:only-of-type {\n",
       "        vertical-align: middle;\n",
       "    }\n",
       "\n",
       "    .dataframe tbody tr th {\n",
       "        vertical-align: top;\n",
       "    }\n",
       "\n",
       "    .dataframe thead th {\n",
       "        text-align: right;\n",
       "    }\n",
       "</style>\n",
       "<table border=\"1\" class=\"dataframe\">\n",
       "  <thead>\n",
       "    <tr style=\"text-align: right;\">\n",
       "      <th></th>\n",
       "      <th>num_caso</th>\n",
       "      <th>mes_informacion</th>\n",
       "      <th>Tiempo_aparicion</th>\n",
       "      <th>comportamiento_j</th>\n",
       "    </tr>\n",
       "  </thead>\n",
       "  <tbody>\n",
       "    <tr>\n",
       "      <th>0</th>\n",
       "      <td>1</td>\n",
       "      <td>2016-04-01 00:00:00</td>\n",
       "      <td>0.0</td>\n",
       "      <td>0.0</td>\n",
       "    </tr>\n",
       "    <tr>\n",
       "      <th>1</th>\n",
       "      <td>1</td>\n",
       "      <td>2016-05-01 00:00:00</td>\n",
       "      <td>1.0</td>\n",
       "      <td>0.0</td>\n",
       "    </tr>\n",
       "    <tr>\n",
       "      <th>2</th>\n",
       "      <td>1</td>\n",
       "      <td>2016-06-01 00:00:00</td>\n",
       "      <td>2.0</td>\n",
       "      <td>0.0</td>\n",
       "    </tr>\n",
       "    <tr>\n",
       "      <th>3</th>\n",
       "      <td>1</td>\n",
       "      <td>2016-07-01 00:00:00</td>\n",
       "      <td>3.0</td>\n",
       "      <td>0.0</td>\n",
       "    </tr>\n",
       "    <tr>\n",
       "      <th>4</th>\n",
       "      <td>1</td>\n",
       "      <td>2016-08-01 00:00:00</td>\n",
       "      <td>4.0</td>\n",
       "      <td>0.0</td>\n",
       "    </tr>\n",
       "  </tbody>\n",
       "</table>\n",
       "</div>"
      ],
      "text/plain": [
       "   num_caso      mes_informacion  Tiempo_aparicion  comportamiento_j\n",
       "0         1  2016-04-01 00:00:00               0.0               0.0\n",
       "1         1  2016-05-01 00:00:00               1.0               0.0\n",
       "2         1  2016-06-01 00:00:00               2.0               0.0\n",
       "3         1  2016-07-01 00:00:00               3.0               0.0\n",
       "4         1  2016-08-01 00:00:00               4.0               0.0"
      ]
     },
     "metadata": {},
     "output_type": "display_data"
    }
   ],
   "source": [
    "display(tabla.head())\n",
    "display(tabla_comp.head())"
   ]
  },
  {
   "cell_type": "markdown",
   "metadata": {},
   "source": [
    "------\n",
    "Trabajaremos con la tabla de comportamiento 2 y 3 para generar nuestro target\n",
    "\n",
    "------"
   ]
  },
  {
   "cell_type": "markdown",
   "metadata": {},
   "source": [
    "Para ello, primero analizaremos el tiempo de vida que aparece un cliente en el sistema. Es decir, haremos el análisis en la columna de 'Tiempo_aparicion'."
   ]
  },
  {
   "cell_type": "code",
   "execution_count": 7,
   "metadata": {},
   "outputs": [
    {
     "data": {
      "text/plain": [
       "(0.0, 64.0)"
      ]
     },
     "execution_count": 7,
     "metadata": {},
     "output_type": "execute_result"
    }
   ],
   "source": [
    "tiempo_vida = tabla_comp.groupby(['num_caso'])['Tiempo_aparicion'].max()\n",
    "tiempo_vida.min(), tiempo_vida.max()"
   ]
  },
  {
   "cell_type": "markdown",
   "metadata": {},
   "source": [
    "------\n",
    "Notamos que hay clientes que aparecen una vez y otros hasta 64 veces o bien meses.\n",
    "\n",
    "------"
   ]
  },
  {
   "cell_type": "code",
   "execution_count": 8,
   "metadata": {},
   "outputs": [
    {
     "data": {
      "image/png": "[encoded data removed]",
      "text/plain": [
       "<Figure size 1152x432 with 1 Axes>"
      ]
     },
     "metadata": {},
     "output_type": "display_data"
    },
    {
     "name": "stdout",
     "output_type": "stream",
     "text": [
      "Tiempo de vida promedio de un cliente en el sistema:  28.128566218187714\n"
     ]
    }
   ],
   "source": [
    "w = cl.Counter(tiempo_vida)\n",
    "w.most_common()\n",
    "\n",
    "fig, ax = plt.subplots(figsize=(16, 6))\n",
    "\n",
    "bar = ax.bar(w.keys(), w.values())\n",
    "\n",
    "plt.title('Tiempo de vida de un cliente en el sistema', color = '#4f4f4f', fontsize = 25, \n",
    "             fontfamily = 'serif')\n",
    "\n",
    "plt.xticks(np.arange(0,65))\n",
    "\n",
    "plt.xlabel('Meses', fontsize = 18, fontfamily = 'serif', color = '#525252', labelpad = 15)\n",
    "\n",
    "sns.despine(offset = {'bottom' : 15, 'left' : -10}, trim = True)\n",
    "plt.xticks(fontsize = 11.5, fontfamily = 'serif', color = '#525252', rotation = 90)\n",
    "plt.yticks(fontsize = 11.5, fontfamily = 'serif', color = '#525252')\n",
    "plt.show()\n",
    "print('Tiempo de vida promedio de un cliente en el sistema: ', tiempo_vida.mean())"
   ]
  },
  {
   "cell_type": "markdown",
   "metadata": {},
   "source": [
    "-----\n",
    "Debemos tomar una ventana de tiempo, pues no todos los clientes aparecen 64 meses, pero observemos que no se acumula del todo en una parte, sin embargo, la densidad está un poco más cargada a la izquierda, así que tomaremos la media como el límite de las personas a considerar en nuestro análisis. En este caso tomaremos como nuestra ventana de 0 a 29. \n",
    "\n",
    "Además, lo que haremos es tomar en cuenta cuantas veces aparece en comportamiento diferente de 0, pues significa que el cliente no cumplió cierto cumplimiento con la empresa. \n",
    "\n",
    "El análisis ahora irá sobre la columna comportamiento_j\n",
    "\n",
    "-----"
   ]
  },
  {
   "cell_type": "code",
   "execution_count": 9,
   "metadata": {},
   "outputs": [
    {
     "data": {
      "text/plain": [
       "(1, 28)"
      ]
     },
     "execution_count": 9,
     "metadata": {},
     "output_type": "execute_result"
    }
   ],
   "source": [
    "aux = tabla_comp[(tabla_comp.Tiempo_aparicion <= 29) & (tabla_comp.comportamiento_j > 0)]\n",
    "comp = aux.groupby(['num_caso'])['comportamiento_j'].count()\n",
    "del aux\n",
    "comp.min(), comp.max()"
   ]
  },
  {
   "cell_type": "markdown",
   "metadata": {},
   "source": [
    "-----\n",
    "Aquí observamos que hay personas que no cumplieron al menos una vez y otros hasta 28 veces\n",
    "\n",
    "-----"
   ]
  },
  {
   "cell_type": "code",
   "execution_count": 10,
   "metadata": {},
   "outputs": [
    {
     "data": {
      "image/png": "[encoded data removed]",
      "text/plain": [
       "<Figure size 1152x432 with 1 Axes>"
      ]
     },
     "metadata": {},
     "output_type": "display_data"
    },
    {
     "name": "stdout",
     "output_type": "stream",
     "text": [
      "Numero de veces de comportamiento_j promedio :  3.0923447953944296\n"
     ]
    }
   ],
   "source": [
    "w = cl.Counter(comp)\n",
    "w.most_common()\n",
    "\n",
    "fig, ax = plt.subplots(figsize=(16, 6))\n",
    "\n",
    "bar = ax.bar(w.keys(), w.values())\n",
    "\n",
    "plt.title('Numero de veces de comportamiento_j', color = '#4f4f4f', fontsize = 25, \n",
    "             fontfamily = 'serif')\n",
    "\n",
    "plt.xticks(np.arange(1,29))\n",
    "sns.despine(offset = {'bottom' : 15, 'left' : -10}, trim = True)\n",
    "plt.xticks(fontsize = 11.5, fontfamily = 'serif', color = '#525252')\n",
    "plt.yticks(fontsize = 11.5, fontfamily = 'serif', color = '#525252')\n",
    "plt.show()\n",
    "print('Numero de veces de comportamiento_j promedio : ', comp.mean())"
   ]
  },
  {
   "cell_type": "markdown",
   "metadata": {},
   "source": [
    "-----\n",
    "Cuando graficamos este comportamiento respeco a nuestra ventana de tiempo de 0 a 29 meses y observando cuantas veces las personas no cumplieron pues se ve como si tuvieran una forma exponencial, una forma bonita porque se concentra la mayor información del lado izquierdo. Aquí en lugar de tomar la media tomaremos el percentil 90%.\n",
    "\n",
    "-----"
   ]
  },
  {
   "cell_type": "code",
   "execution_count": 11,
   "metadata": {},
   "outputs": [
    {
     "data": {
      "text/plain": [
       "5.0"
      ]
     },
     "execution_count": 11,
     "metadata": {},
     "output_type": "execute_result"
    }
   ],
   "source": [
    "#Tomaremos el percentile de 90 para establecer un umbral de si otorgamos o no un crédito\n",
    "np.percentile(comp, 90)"
   ]
  },
  {
   "cell_type": "markdown",
   "metadata": {},
   "source": [
    "-----\n",
    "Nos arroja un valor de 5.\n",
    "\n",
    "\n",
    "Es decir, que las personas que tengan un conteo de comportamiento_j menor a 5 durante \n",
    "TODO el tiempo de vida, se le otorgara un credito, en caso contrario NO se le otorgará\n",
    "\n",
    "-----"
   ]
  },
  {
   "cell_type": "markdown",
   "metadata": {},
   "source": [
    "Una vez hecho nuestro análisis y que hemos encontrado nuestro umbral para clasificar pues definiremos una \n",
    "funcion que nos calisificará este comportamiento descrito arriba. \n",
    "\n",
    "-----"
   ]
  },
  {
   "cell_type": "code",
   "execution_count": 12,
   "metadata": {},
   "outputs": [],
   "source": [
    "def otorgacion_credito(x):\n",
    "    if x.shape[0]> 5:\n",
    "        return int(0)\n",
    "    else:\n",
    "        return int(1)"
   ]
  },
  {
   "cell_type": "code",
   "execution_count": 13,
   "metadata": {},
   "outputs": [
    {
     "data": {
      "text/plain": [
       "num_caso\n",
       "1     0\n",
       "7     0\n",
       "8     1\n",
       "10    1\n",
       "14    0\n",
       "Name: comportamiento_j, dtype: int64"
      ]
     },
     "execution_count": 13,
     "metadata": {},
     "output_type": "execute_result"
    }
   ],
   "source": [
    "aux = tabla_comp[(tabla_comp.comportamiento_j > 0)]\n",
    "credito = aux.groupby(['num_caso'])['comportamiento_j'].apply(otorgacion_credito)\n",
    "del aux\n",
    "credito.head()"
   ]
  },
  {
   "cell_type": "markdown",
   "metadata": {},
   "source": [
    "-----\n",
    "¡Eureka! Hemos obtenido nuestro target, ahora lo uniremos con la tabla que hemos construido anteriormente, y eliminaremos\n",
    "las tablas que hemos utilizado para liberar memoria\n",
    "\n",
    "-----"
   ]
  },
  {
   "cell_type": "code",
   "execution_count": 14,
   "metadata": {},
   "outputs": [
    {
     "data": {
      "text/html": [
       "<div>\n",
       "<style scoped>\n",
       "    .dataframe tbody tr th:only-of-type {\n",
       "        vertical-align: middle;\n",
       "    }\n",
       "\n",
       "    .dataframe tbody tr th {\n",
       "        vertical-align: top;\n",
       "    }\n",
       "\n",
       "    .dataframe thead th {\n",
       "        text-align: right;\n",
       "    }\n",
       "</style>\n",
       "<table border=\"1\" class=\"dataframe\">\n",
       "  <thead>\n",
       "    <tr style=\"text-align: right;\">\n",
       "      <th></th>\n",
       "      <th>Otorgación_credito</th>\n",
       "      <th>_id_</th>\n",
       "    </tr>\n",
       "  </thead>\n",
       "  <tbody>\n",
       "    <tr>\n",
       "      <th>0</th>\n",
       "      <td>0</td>\n",
       "      <td>1</td>\n",
       "    </tr>\n",
       "    <tr>\n",
       "      <th>1</th>\n",
       "      <td>0</td>\n",
       "      <td>7</td>\n",
       "    </tr>\n",
       "    <tr>\n",
       "      <th>2</th>\n",
       "      <td>1</td>\n",
       "      <td>8</td>\n",
       "    </tr>\n",
       "    <tr>\n",
       "      <th>3</th>\n",
       "      <td>1</td>\n",
       "      <td>10</td>\n",
       "    </tr>\n",
       "    <tr>\n",
       "      <th>4</th>\n",
       "      <td>0</td>\n",
       "      <td>14</td>\n",
       "    </tr>\n",
       "  </tbody>\n",
       "</table>\n",
       "</div>"
      ],
      "text/plain": [
       "   Otorgación_credito  _id_\n",
       "0                   0     1\n",
       "1                   0     7\n",
       "2                   1     8\n",
       "3                   1    10\n",
       "4                   0    14"
      ]
     },
     "execution_count": 14,
     "metadata": {},
     "output_type": "execute_result"
    }
   ],
   "source": [
    "oto_credito  = pd.DataFrame(credito.values, columns = ['Otorgación_credito'])\n",
    "oto_credito['_id_'] = credito.index\n",
    "oto_credito.head()"
   ]
  },
  {
   "cell_type": "code",
   "execution_count": 15,
   "metadata": {},
   "outputs": [
    {
     "data": {
      "text/html": [
       "<div>\n",
       "<style scoped>\n",
       "    .dataframe tbody tr th:only-of-type {\n",
       "        vertical-align: middle;\n",
       "    }\n",
       "\n",
       "    .dataframe tbody tr th {\n",
       "        vertical-align: top;\n",
       "    }\n",
       "\n",
       "    .dataframe thead th {\n",
       "        text-align: right;\n",
       "    }\n",
       "</style>\n",
       "<table border=\"1\" class=\"dataframe\">\n",
       "  <thead>\n",
       "    <tr style=\"text-align: right;\">\n",
       "      <th></th>\n",
       "      <th>_id_</th>\n",
       "      <th>fecha_inicio</th>\n",
       "      <th>comp_interno1</th>\n",
       "      <th>comp_interno2</th>\n",
       "      <th>comp_interno3</th>\n",
       "      <th>comp_interno4</th>\n",
       "      <th>categoria1</th>\n",
       "      <th>categoria2</th>\n",
       "      <th>categoria3</th>\n",
       "      <th>_id2_</th>\n",
       "      <th>comp_mixto1</th>\n",
       "      <th>comp_externo1</th>\n",
       "      <th>comp_externo2</th>\n",
       "      <th>comp_externo3</th>\n",
       "      <th>comp_externo4</th>\n",
       "      <th>inversion</th>\n",
       "      <th>Otorgación_credito</th>\n",
       "    </tr>\n",
       "  </thead>\n",
       "  <tbody>\n",
       "    <tr>\n",
       "      <th>0</th>\n",
       "      <td>78213</td>\n",
       "      <td>2020-03-25</td>\n",
       "      <td>0.000000</td>\n",
       "      <td>b'0'</td>\n",
       "      <td>11.0</td>\n",
       "      <td>58.0</td>\n",
       "      <td>2.0</td>\n",
       "      <td>9.0</td>\n",
       "      <td>156.0</td>\n",
       "      <td>1798899</td>\n",
       "      <td>0.33522</td>\n",
       "      <td>260.869565</td>\n",
       "      <td>25.854639</td>\n",
       "      <td>56.0</td>\n",
       "      <td>-230.0</td>\n",
       "      <td>NaN</td>\n",
       "      <td>1</td>\n",
       "    </tr>\n",
       "    <tr>\n",
       "      <th>1</th>\n",
       "      <td>76457</td>\n",
       "      <td>2020-02-13</td>\n",
       "      <td>0.000000</td>\n",
       "      <td>b'1'</td>\n",
       "      <td>28.0</td>\n",
       "      <td>45.0</td>\n",
       "      <td>1.0</td>\n",
       "      <td>4.0</td>\n",
       "      <td>173.0</td>\n",
       "      <td>1758511</td>\n",
       "      <td>0.33334</td>\n",
       "      <td>40.579710</td>\n",
       "      <td>2.872738</td>\n",
       "      <td>62.0</td>\n",
       "      <td>-230.0</td>\n",
       "      <td>0.041039</td>\n",
       "      <td>1</td>\n",
       "    </tr>\n",
       "    <tr>\n",
       "      <th>2</th>\n",
       "      <td>40666</td>\n",
       "      <td>2018-01-24</td>\n",
       "      <td>0.000000</td>\n",
       "      <td>b'1'</td>\n",
       "      <td>25.0</td>\n",
       "      <td>45.0</td>\n",
       "      <td>1.0</td>\n",
       "      <td>9.0</td>\n",
       "      <td>170.0</td>\n",
       "      <td>935318</td>\n",
       "      <td>0.29186</td>\n",
       "      <td>NaN</td>\n",
       "      <td>NaN</td>\n",
       "      <td>119.0</td>\n",
       "      <td>-230.0</td>\n",
       "      <td>NaN</td>\n",
       "      <td>1</td>\n",
       "    </tr>\n",
       "    <tr>\n",
       "      <th>3</th>\n",
       "      <td>68389</td>\n",
       "      <td>2019-07-30</td>\n",
       "      <td>2026.342452</td>\n",
       "      <td>b'1'</td>\n",
       "      <td>1.0</td>\n",
       "      <td>67.0</td>\n",
       "      <td>2.0</td>\n",
       "      <td>9.0</td>\n",
       "      <td>146.0</td>\n",
       "      <td>1572947</td>\n",
       "      <td>0.27318</td>\n",
       "      <td>276.811594</td>\n",
       "      <td>27.434645</td>\n",
       "      <td>125.0</td>\n",
       "      <td>-230.0</td>\n",
       "      <td>77.422135</td>\n",
       "      <td>1</td>\n",
       "    </tr>\n",
       "    <tr>\n",
       "      <th>4</th>\n",
       "      <td>45732</td>\n",
       "      <td>2018-07-27</td>\n",
       "      <td>3546.099291</td>\n",
       "      <td>b'1'</td>\n",
       "      <td>15.0</td>\n",
       "      <td>70.0</td>\n",
       "      <td>1.0</td>\n",
       "      <td>9.0</td>\n",
       "      <td>160.0</td>\n",
       "      <td>1051836</td>\n",
       "      <td>0.32988</td>\n",
       "      <td>640.579710</td>\n",
       "      <td>63.487504</td>\n",
       "      <td>81.0</td>\n",
       "      <td>-230.0</td>\n",
       "      <td>90.539953</td>\n",
       "      <td>1</td>\n",
       "    </tr>\n",
       "  </tbody>\n",
       "</table>\n",
       "</div>"
      ],
      "text/plain": [
       "    _id_ fecha_inicio  comp_interno1 comp_interno2  comp_interno3  \\\n",
       "0  78213   2020-03-25       0.000000          b'0'           11.0   \n",
       "1  76457   2020-02-13       0.000000          b'1'           28.0   \n",
       "2  40666   2018-01-24       0.000000          b'1'           25.0   \n",
       "3  68389   2019-07-30    2026.342452          b'1'            1.0   \n",
       "4  45732   2018-07-27    3546.099291          b'1'           15.0   \n",
       "\n",
       "   comp_interno4  categoria1  categoria2  categoria3    _id2_  comp_mixto1  \\\n",
       "0           58.0         2.0         9.0       156.0  1798899      0.33522   \n",
       "1           45.0         1.0         4.0       173.0  1758511      0.33334   \n",
       "2           45.0         1.0         9.0       170.0   935318      0.29186   \n",
       "3           67.0         2.0         9.0       146.0  1572947      0.27318   \n",
       "4           70.0         1.0         9.0       160.0  1051836      0.32988   \n",
       "\n",
       "   comp_externo1  comp_externo2  comp_externo3  comp_externo4  inversion  \\\n",
       "0     260.869565      25.854639           56.0         -230.0        NaN   \n",
       "1      40.579710       2.872738           62.0         -230.0   0.041039   \n",
       "2            NaN            NaN          119.0         -230.0        NaN   \n",
       "3     276.811594      27.434645          125.0         -230.0  77.422135   \n",
       "4     640.579710      63.487504           81.0         -230.0  90.539953   \n",
       "\n",
       "   Otorgación_credito  \n",
       "0                   1  \n",
       "1                   1  \n",
       "2                   1  \n",
       "3                   1  \n",
       "4                   1  "
      ]
     },
     "execution_count": 15,
     "metadata": {},
     "output_type": "execute_result"
    }
   ],
   "source": [
    "tabla_limpia = pd.merge(tabla, oto_credito, how = 'inner', on = '_id_')\n",
    "del tabla, oto_credito, tabla_comp\n",
    "tabla_limpia.head()"
   ]
  },
  {
   "cell_type": "markdown",
   "metadata": {},
   "source": [
    "-----\n",
    "Observemos cuantos valores nulos tenemos y que información podemos podemos rellenar\n",
    "\n",
    "-----"
   ]
  },
  {
   "cell_type": "code",
   "execution_count": 16,
   "metadata": {},
   "outputs": [
    {
     "name": "stdout",
     "output_type": "stream",
     "text": [
      "(39407, 17)\n",
      "--------------------------------------------------\n",
      "<class 'pandas.core.frame.DataFrame'>\n",
      "Int64Index: 39407 entries, 0 to 39406\n",
      "Data columns (total 17 columns):\n",
      " #   Column              Non-Null Count  Dtype  \n",
      "---  ------              --------------  -----  \n",
      " 0   _id_                39407 non-null  int64  \n",
      " 1   fecha_inicio        39407 non-null  object \n",
      " 2   comp_interno1       39407 non-null  float64\n",
      " 3   comp_interno2       39407 non-null  object \n",
      " 4   comp_interno3       39407 non-null  float64\n",
      " 5   comp_interno4       39407 non-null  float64\n",
      " 6   categoria1          39407 non-null  float64\n",
      " 7   categoria2          39407 non-null  float64\n",
      " 8   categoria3          39407 non-null  float64\n",
      " 9   _id2_               39407 non-null  int64  \n",
      " 10  comp_mixto1         39407 non-null  float64\n",
      " 11  comp_externo1       37565 non-null  float64\n",
      " 12  comp_externo2       34740 non-null  float64\n",
      " 13  comp_externo3       39402 non-null  float64\n",
      " 14  comp_externo4       39407 non-null  float64\n",
      " 15  inversion           13982 non-null  float64\n",
      " 16  Otorgación_credito  39407 non-null  int64  \n",
      "dtypes: float64(12), int64(3), object(2)\n",
      "memory usage: 5.4+ MB\n"
     ]
    }
   ],
   "source": [
    "print(tabla_limpia.shape)\n",
    "print('-'*50)\n",
    "\n",
    "tabla_limpia.info()"
   ]
  },
  {
   "cell_type": "markdown",
   "metadata": {},
   "source": [
    "-----\n",
    "Veamos que podemos rellenar en inversión los NA por 0 pues signiifica que no tuvieron inversión.\n",
    "Después de ahí eliminaremos los valores Nan's de las demás columna, pues desconocemos que signifiquen y no podremos\n",
    "rellenarlas.\n",
    "\n",
    "-----"
   ]
  },
  {
   "cell_type": "code",
   "execution_count": 17,
   "metadata": {},
   "outputs": [],
   "source": [
    "tabla_limpia['inversion'] = tabla_limpia.inversion.fillna(0)\n",
    "tabla = tabla_limpia.dropna()"
   ]
  },
  {
   "cell_type": "code",
   "execution_count": 18,
   "metadata": {},
   "outputs": [
    {
     "data": {
      "text/html": [
       "<div>\n",
       "<style scoped>\n",
       "    .dataframe tbody tr th:only-of-type {\n",
       "        vertical-align: middle;\n",
       "    }\n",
       "\n",
       "    .dataframe tbody tr th {\n",
       "        vertical-align: top;\n",
       "    }\n",
       "\n",
       "    .dataframe thead th {\n",
       "        text-align: right;\n",
       "    }\n",
       "</style>\n",
       "<table border=\"1\" class=\"dataframe\">\n",
       "  <thead>\n",
       "    <tr style=\"text-align: right;\">\n",
       "      <th></th>\n",
       "      <th>_id_</th>\n",
       "      <th>comp_interno1</th>\n",
       "      <th>comp_interno3</th>\n",
       "      <th>comp_interno4</th>\n",
       "      <th>categoria1</th>\n",
       "      <th>categoria2</th>\n",
       "      <th>categoria3</th>\n",
       "      <th>_id2_</th>\n",
       "      <th>comp_mixto1</th>\n",
       "      <th>comp_externo1</th>\n",
       "      <th>comp_externo2</th>\n",
       "      <th>comp_externo3</th>\n",
       "      <th>comp_externo4</th>\n",
       "      <th>inversion</th>\n",
       "      <th>Otorgación_credito</th>\n",
       "    </tr>\n",
       "  </thead>\n",
       "  <tbody>\n",
       "    <tr>\n",
       "      <th>count</th>\n",
       "      <td>34731.000000</td>\n",
       "      <td>34731.000000</td>\n",
       "      <td>34731.000000</td>\n",
       "      <td>34731.000000</td>\n",
       "      <td>34731.000000</td>\n",
       "      <td>34731.000000</td>\n",
       "      <td>34731.000000</td>\n",
       "      <td>3.473100e+04</td>\n",
       "      <td>34731.000000</td>\n",
       "      <td>3.473100e+04</td>\n",
       "      <td>34731.000000</td>\n",
       "      <td>34731.000000</td>\n",
       "      <td>3.473100e+04</td>\n",
       "      <td>34731.000000</td>\n",
       "      <td>34731.000000</td>\n",
       "    </tr>\n",
       "    <tr>\n",
       "      <th>mean</th>\n",
       "      <td>42873.839596</td>\n",
       "      <td>1045.034059</td>\n",
       "      <td>14.670410</td>\n",
       "      <td>56.528577</td>\n",
       "      <td>1.835450</td>\n",
       "      <td>8.002764</td>\n",
       "      <td>159.670410</td>\n",
       "      <td>9.860983e+05</td>\n",
       "      <td>0.339226</td>\n",
       "      <td>6.854142e+02</td>\n",
       "      <td>35.095506</td>\n",
       "      <td>88.161441</td>\n",
       "      <td>1.842711e+07</td>\n",
       "      <td>65.766657</td>\n",
       "      <td>0.786502</td>\n",
       "    </tr>\n",
       "    <tr>\n",
       "      <th>std</th>\n",
       "      <td>25300.968659</td>\n",
       "      <td>4318.366587</td>\n",
       "      <td>8.829472</td>\n",
       "      <td>9.992042</td>\n",
       "      <td>0.944815</td>\n",
       "      <td>2.049754</td>\n",
       "      <td>8.829472</td>\n",
       "      <td>5.819223e+05</td>\n",
       "      <td>0.037451</td>\n",
       "      <td>2.063677e+04</td>\n",
       "      <td>37.665199</td>\n",
       "      <td>59.498592</td>\n",
       "      <td>4.288813e+08</td>\n",
       "      <td>653.293558</td>\n",
       "      <td>0.409782</td>\n",
       "    </tr>\n",
       "    <tr>\n",
       "      <th>min</th>\n",
       "      <td>1.000000</td>\n",
       "      <td>0.000000</td>\n",
       "      <td>1.000000</td>\n",
       "      <td>25.000000</td>\n",
       "      <td>1.000000</td>\n",
       "      <td>1.000000</td>\n",
       "      <td>146.000000</td>\n",
       "      <td>2.300000e+01</td>\n",
       "      <td>0.204760</td>\n",
       "      <td>2.898551e-03</td>\n",
       "      <td>0.000287</td>\n",
       "      <td>-608.000000</td>\n",
       "      <td>-2.300000e+02</td>\n",
       "      <td>0.000000</td>\n",
       "      <td>0.000000</td>\n",
       "    </tr>\n",
       "    <tr>\n",
       "      <th>25%</th>\n",
       "      <td>21186.500000</td>\n",
       "      <td>0.000000</td>\n",
       "      <td>8.000000</td>\n",
       "      <td>48.000000</td>\n",
       "      <td>1.000000</td>\n",
       "      <td>7.000000</td>\n",
       "      <td>153.000000</td>\n",
       "      <td>4.872895e+05</td>\n",
       "      <td>0.317900</td>\n",
       "      <td>1.391304e+02</td>\n",
       "      <td>11.490951</td>\n",
       "      <td>72.000000</td>\n",
       "      <td>-2.300000e+02</td>\n",
       "      <td>0.000000</td>\n",
       "      <td>1.000000</td>\n",
       "    </tr>\n",
       "    <tr>\n",
       "      <th>50%</th>\n",
       "      <td>42109.000000</td>\n",
       "      <td>0.000000</td>\n",
       "      <td>15.000000</td>\n",
       "      <td>55.000000</td>\n",
       "      <td>2.000000</td>\n",
       "      <td>9.000000</td>\n",
       "      <td>160.000000</td>\n",
       "      <td>9.685070e+05</td>\n",
       "      <td>0.348200</td>\n",
       "      <td>2.678261e+02</td>\n",
       "      <td>22.120080</td>\n",
       "      <td>98.000000</td>\n",
       "      <td>-2.300000e+02</td>\n",
       "      <td>0.000000</td>\n",
       "      <td>1.000000</td>\n",
       "    </tr>\n",
       "    <tr>\n",
       "      <th>75%</th>\n",
       "      <td>63379.000000</td>\n",
       "      <td>1013.171226</td>\n",
       "      <td>21.000000</td>\n",
       "      <td>64.000000</td>\n",
       "      <td>2.000000</td>\n",
       "      <td>9.000000</td>\n",
       "      <td>166.000000</td>\n",
       "      <td>1.457717e+06</td>\n",
       "      <td>0.370000</td>\n",
       "      <td>5.304348e+02</td>\n",
       "      <td>45.245619</td>\n",
       "      <td>119.000000</td>\n",
       "      <td>-2.300000e+02</td>\n",
       "      <td>8.606820</td>\n",
       "      <td>1.000000</td>\n",
       "    </tr>\n",
       "    <tr>\n",
       "      <th>max</th>\n",
       "      <td>97095.000000</td>\n",
       "      <td>281661.600811</td>\n",
       "      <td>32.000000</td>\n",
       "      <td>79.000000</td>\n",
       "      <td>6.000000</td>\n",
       "      <td>13.000000</td>\n",
       "      <td>177.000000</td>\n",
       "      <td>2.233185e+06</td>\n",
       "      <td>0.430060</td>\n",
       "      <td>2.898551e+06</td>\n",
       "      <td>861.821316</td>\n",
       "      <td>159.000000</td>\n",
       "      <td>1.000000e+10</td>\n",
       "      <td>95052.396733</td>\n",
       "      <td>1.000000</td>\n",
       "    </tr>\n",
       "  </tbody>\n",
       "</table>\n",
       "</div>"
      ],
      "text/plain": [
       "               _id_  comp_interno1  comp_interno3  comp_interno4  \\\n",
       "count  34731.000000   34731.000000   34731.000000   34731.000000   \n",
       "mean   42873.839596    1045.034059      14.670410      56.528577   \n",
       "std    25300.968659    4318.366587       8.829472       9.992042   \n",
       "min        1.000000       0.000000       1.000000      25.000000   \n",
       "25%    21186.500000       0.000000       8.000000      48.000000   \n",
       "50%    42109.000000       0.000000      15.000000      55.000000   \n",
       "75%    63379.000000    1013.171226      21.000000      64.000000   \n",
       "max    97095.000000  281661.600811      32.000000      79.000000   \n",
       "\n",
       "         categoria1    categoria2    categoria3         _id2_   comp_mixto1  \\\n",
       "count  34731.000000  34731.000000  34731.000000  3.473100e+04  34731.000000   \n",
       "mean       1.835450      8.002764    159.670410  9.860983e+05      0.339226   \n",
       "std        0.944815      2.049754      8.829472  5.819223e+05      0.037451   \n",
       "min        1.000000      1.000000    146.000000  2.300000e+01      0.204760   \n",
       "25%        1.000000      7.000000    153.000000  4.872895e+05      0.317900   \n",
       "50%        2.000000      9.000000    160.000000  9.685070e+05      0.348200   \n",
       "75%        2.000000      9.000000    166.000000  1.457717e+06      0.370000   \n",
       "max        6.000000     13.000000    177.000000  2.233185e+06      0.430060   \n",
       "\n",
       "       comp_externo1  comp_externo2  comp_externo3  comp_externo4  \\\n",
       "count   3.473100e+04   34731.000000   34731.000000   3.473100e+04   \n",
       "mean    6.854142e+02      35.095506      88.161441   1.842711e+07   \n",
       "std     2.063677e+04      37.665199      59.498592   4.288813e+08   \n",
       "min     2.898551e-03       0.000287    -608.000000  -2.300000e+02   \n",
       "25%     1.391304e+02      11.490951      72.000000  -2.300000e+02   \n",
       "50%     2.678261e+02      22.120080      98.000000  -2.300000e+02   \n",
       "75%     5.304348e+02      45.245619     119.000000  -2.300000e+02   \n",
       "max     2.898551e+06     861.821316     159.000000   1.000000e+10   \n",
       "\n",
       "          inversion  Otorgación_credito  \n",
       "count  34731.000000        34731.000000  \n",
       "mean      65.766657            0.786502  \n",
       "std      653.293558            0.409782  \n",
       "min        0.000000            0.000000  \n",
       "25%        0.000000            1.000000  \n",
       "50%        0.000000            1.000000  \n",
       "75%        8.606820            1.000000  \n",
       "max    95052.396733            1.000000  "
      ]
     },
     "execution_count": 18,
     "metadata": {},
     "output_type": "execute_result"
    }
   ],
   "source": [
    "tabla.describe()"
   ]
  },
  {
   "cell_type": "markdown",
   "metadata": {},
   "source": [
    "------\n",
    "Notemos que nos quedamos con 34731 datos, esto es debido a que al momento de cruzar nuestro target y la tabla general pues había muchos _id_ que no coincidian por lo que se eliminan, no nos interesan _id_ donde desconocemos su comportamiento y no podemos fijarles una clasificación. Además de que eliminamos los NaN´s de los demás registros.\n",
    "\n",
    "------\n",
    "Ahora graficaremos algunas columnas, para observar si podemos encontrar cuales son las continuas y cuales las categoricas enmascaradas\n",
    "\n",
    "------"
   ]
  },
  {
   "cell_type": "code",
   "execution_count": 19,
   "metadata": {},
   "outputs": [
    {
     "data": {
      "image/png": "[encoded data removed]",
      "text/plain": [
       "<Figure size 360x360 with 1 Axes>"
      ]
     },
     "metadata": {},
     "output_type": "display_data"
    }
   ],
   "source": [
    "wc = cl.Counter(tabla['comp_interno2'])\n",
    "x = wc.keys()\n",
    "y = wc.values()\n",
    "\n",
    "fig, ax = plt.subplots(figsize=(5, 5))\n",
    "\n",
    "bar = ax.bar(wc.keys(), wc.values())\n",
    "\n",
    "for a,b in zip(x, y):\n",
    "    plt.annotate(str(b), xy = (a, b), \n",
    "                 color = '#525252',\n",
    "                 bbox=dict(boxstyle = \"round\", \n",
    "                           facecolor = \"white\", \n",
    "                           #edgecolor = \"red\", \n",
    "                           #lw = 1\n",
    "                          ),\n",
    "                 fontsize = 13, xytext = (a, b + b*.03),\n",
    "                 ha = 'center', #'center', 'right', 'left'\n",
    "                 va = 'bottom', # 'top', 'bottom', 'center', 'baseline', 'center_baseline'\n",
    "                 fontfamily = 'serif'\n",
    "                 #fontweight = 'bold'\n",
    "                )\n",
    "\n",
    "ax.axes.yaxis.set_visible(False)\n",
    "ax.spines['left'].set_visible(False)\n",
    "ax.spines['bottom'].set_visible(False)\n",
    "ax.spines['right'].set_visible(False)\n",
    "ax.spines['top'].set_visible(False)\n",
    "\n",
    "plt.xticks(fontsize = 14, fontfamily = 'serif', color = '#525252')\n",
    "#plt.tight_layout()\n",
    "ax.tick_params(axis = 'x', color = 'w')"
   ]
  },
  {
   "cell_type": "code",
   "execution_count": 20,
   "metadata": {},
   "outputs": [
    {
     "data": {
      "text/plain": [
       "Index(['_id_', 'fecha_inicio', 'comp_interno1', 'comp_interno2',\n",
       "       'comp_interno3', 'comp_interno4', 'categoria1', 'categoria2',\n",
       "       'categoria3', '_id2_', 'comp_mixto1', 'comp_externo1', 'comp_externo2',\n",
       "       'comp_externo3', 'comp_externo4', 'inversion', 'Otorgación_credito'],\n",
       "      dtype='object')"
      ]
     },
     "execution_count": 20,
     "metadata": {},
     "output_type": "execute_result"
    }
   ],
   "source": [
    "lst = tabla.columns\n",
    "lst"
   ]
  },
  {
   "cell_type": "code",
   "execution_count": 21,
   "metadata": {},
   "outputs": [
    {
     "data": {
      "image/png": "[encoded data removed]",
      "text/plain": [
       "<Figure size 864x360 with 1 Axes>"
      ]
     },
     "metadata": {},
     "output_type": "display_data"
    }
   ],
   "source": [
    "tabla[lst[4]].plot(kind = 'hist', bins = 100, figsize = (12,5))\n",
    "\n",
    "plt.title('Histograma comp_interno3', color = '#4f4f4f', fontsize = 25, \n",
    "             fontfamily = 'serif')\n",
    "\n",
    "x = np.arange(tabla[lst[4]].min() , tabla[lst[4]].max() + 1)\n",
    "\n",
    "plt.ylabel('Frecuencia', fontfamily = 'serif', color = '#525252')\n",
    "plt.xticks(x)\n",
    "\n",
    "sns.despine(offset = {'bottom' : 15, 'left' : -10}, \n",
    "            trim = True)\n",
    "\n",
    "plt.xticks(fontsize = 11.5, fontfamily = 'serif', color = '#525252')\n",
    "plt.yticks(fontsize = 11.5, fontfamily = 'serif', color = '#525252')\n",
    "plt.show()"
   ]
  },
  {
   "cell_type": "markdown",
   "metadata": {},
   "source": [
    "----------\n",
    "En esta grafica son 32 numeros, bien podrían ser los estados del pais. \n",
    "\n",
    "----------"
   ]
  },
  {
   "cell_type": "code",
   "execution_count": 22,
   "metadata": {},
   "outputs": [
    {
     "data": {
      "image/png": "[encoded data removed]",
      "text/plain": [
       "<Figure size 864x360 with 1 Axes>"
      ]
     },
     "metadata": {},
     "output_type": "display_data"
    }
   ],
   "source": [
    "tabla[lst[5]].plot(kind = 'hist', \n",
    "                   bins = 60, # 50, 60, 70, 100 \n",
    "                   figsize = (12,5))\n",
    "\n",
    "plt.title('HIstograma ' + lst[5], color = '#4f4f4f', fontsize = 25, \n",
    "             fontfamily = 'serif')\n",
    "\n",
    "plt.ylabel('Frecuencia', fontfamily = 'serif', color = '#525252')\n",
    "\n",
    "\n",
    "sns.despine(offset = {'bottom' : 15, 'left' : 0}, \n",
    "            trim = True)\n",
    "\n",
    "plt.xticks(fontsize = 11.5, fontfamily = 'serif', color = '#525252')\n",
    "plt.yticks(fontsize = 11.5, fontfamily = 'serif', color = '#525252')\n",
    "plt.show()"
   ]
  },
  {
   "cell_type": "code",
   "execution_count": 23,
   "metadata": {},
   "outputs": [
    {
     "data": {
      "image/png": "[encoded data removed]",
      "text/plain": [
       "<Figure size 576x360 with 1 Axes>"
      ]
     },
     "metadata": {},
     "output_type": "display_data"
    }
   ],
   "source": [
    "wc = cl.Counter(tabla[lst[6]])\n",
    "\n",
    "fig, ax = plt.subplots(figsize=(8, 5))\n",
    "bar = ax.bar(wc.keys(), wc.values())\n",
    "\n",
    "plt.title('HIstograma ' + lst[6], color = '#4f4f4f', fontsize = 25, \n",
    "             fontfamily = 'serif')\n",
    "\n",
    "plt.ylabel('Frecuencia', fontfamily = 'serif', color = '#525252')\n",
    "\n",
    "sns.despine(offset = 10)\n",
    "\n",
    "plt.xticks(fontsize = 11.5, fontfamily = 'serif', color = '#525252')\n",
    "plt.yticks(fontsize = 11.5, fontfamily = 'serif', color = '#525252')\n",
    "plt.show()"
   ]
  },
  {
   "cell_type": "markdown",
   "metadata": {},
   "source": [
    "----------\n",
    "Esta parece tener algún tipo de clasificación del 1 al 6\n",
    "\n",
    "----------"
   ]
  },
  {
   "cell_type": "code",
   "execution_count": 24,
   "metadata": {},
   "outputs": [
    {
     "data": {
      "image/png": "[encoded data removed]",
      "text/plain": [
       "<Figure size 576x360 with 1 Axes>"
      ]
     },
     "metadata": {},
     "output_type": "display_data"
    }
   ],
   "source": [
    "wc = cl.Counter(tabla[lst[7]])\n",
    "\n",
    "fig, ax = plt.subplots(figsize=(8, 5))\n",
    "bar = ax.bar(wc.keys(), wc.values())\n",
    "\n",
    "plt.title('HIstograma ' + lst[7], color = '#4f4f4f', fontsize = 25, \n",
    "             fontfamily = 'serif')\n",
    "\n",
    "plt.ylabel('Frecuencia', fontfamily = 'serif', color = '#525252')\n",
    "\n",
    "x = np.arange(tabla[lst[7]].min() , tabla[lst[7]].max() + 1)\n",
    "plt.xticks(x)\n",
    "\n",
    "sns.despine(offset = 10)\n",
    "\n",
    "plt.xticks(fontsize = 11.5, fontfamily = 'serif', color = '#525252')\n",
    "plt.yticks(fontsize = 11.5, fontfamily = 'serif', color = '#525252')\n",
    "plt.show()"
   ]
  },
  {
   "cell_type": "markdown",
   "metadata": {},
   "source": [
    "--------\n",
    "Y esta parece tener algún tipo de clasificación del 1 al 13\n",
    "\n",
    "--------"
   ]
  },
  {
   "cell_type": "code",
   "execution_count": 25,
   "metadata": {},
   "outputs": [
    {
     "data": {
      "image/png": "[encoded data removed]",
      "text/plain": [
       "<Figure size 720x360 with 1 Axes>"
      ]
     },
     "metadata": {},
     "output_type": "display_data"
    }
   ],
   "source": [
    "tabla[lst[8]].plot(kind = 'hist', \n",
    "                   bins = 30, # 50, 60, 70, 100 \n",
    "                   figsize = (10,5),\n",
    "                  )\n",
    "\n",
    "plt.title('HIstograma ' + lst[8], color = '#4f4f4f', fontsize = 25, \n",
    "             fontfamily = 'serif')\n",
    "\n",
    "plt.ylabel('Frecuencia', fontfamily = 'serif', color = '#525252')\n",
    "\n",
    "\n",
    "sns.despine(offset = 10, \n",
    "            #trim = True\n",
    "           )\n",
    "\n",
    "plt.xticks(fontsize = 11.5, fontfamily = 'serif', color = '#525252')\n",
    "plt.yticks(fontsize = 11.5, fontfamily = 'serif', color = '#525252')\n",
    "plt.show()"
   ]
  },
  {
   "cell_type": "code",
   "execution_count": 26,
   "metadata": {},
   "outputs": [
    {
     "data": {
      "image/png": "[encoded data removed]",
      "text/plain": [
       "<Figure size 720x360 with 1 Axes>"
      ]
     },
     "metadata": {},
     "output_type": "display_data"
    }
   ],
   "source": [
    "tabla[lst[10]].plot(kind = 'hist', \n",
    "                   bins = 70, # 50, 60, 70, 100 \n",
    "                   figsize = (10,5))\n",
    "\n",
    "plt.title('HIstograma ' + lst[10], color = '#4f4f4f', fontsize = 25, \n",
    "             fontfamily = 'serif')\n",
    "\n",
    "plt.ylabel('Frecuencia', fontfamily = 'serif', color = '#525252')\n",
    "\n",
    "\n",
    "sns.despine(offset = 10)\n",
    "\n",
    "plt.xticks(fontsize = 11.5, fontfamily = 'serif', color = '#525252')\n",
    "plt.yticks(fontsize = 11.5, fontfamily = 'serif', color = '#525252')\n",
    "plt.show()"
   ]
  },
  {
   "cell_type": "code",
   "execution_count": 27,
   "metadata": {},
   "outputs": [
    {
     "data": {
      "image/png": "[encoded data removed]",
      "text/plain": [
       "<Figure size 720x360 with 1 Axes>"
      ]
     },
     "metadata": {},
     "output_type": "display_data"
    }
   ],
   "source": [
    "tabla[lst[12]].plot(kind = 'hist', \n",
    "                   bins = 150, # 50, 60, 70, 100 \n",
    "                   figsize = (10,5))\n",
    "\n",
    "plt.title('HIstograma ' + lst[12], color = '#4f4f4f', fontsize = 25, \n",
    "             fontfamily = 'serif')\n",
    "\n",
    "plt.ylabel('Frecuencia', fontfamily = 'serif', color = '#525252')\n",
    "\n",
    "\n",
    "sns.despine(offset = 10)\n",
    "\n",
    "plt.xticks(fontsize = 11.5, fontfamily = 'serif', color = '#525252')\n",
    "plt.yticks(fontsize = 11.5, fontfamily = 'serif', color = '#525252')\n",
    "plt.show()"
   ]
  },
  {
   "cell_type": "code",
   "execution_count": 28,
   "metadata": {},
   "outputs": [
    {
     "data": {
      "image/png": "[encoded data removed]",
      "text/plain": [
       "<Figure size 720x360 with 1 Axes>"
      ]
     },
     "metadata": {},
     "output_type": "display_data"
    }
   ],
   "source": [
    "tabla[lst[13]].plot(kind = 'hist', \n",
    "                   bins = 100, # 50, 60, 70, 100 \n",
    "                   figsize = (10,5))\n",
    "\n",
    "plt.title('HIstograma ' + lst[13], color = '#4f4f4f', fontsize = 25, \n",
    "             fontfamily = 'serif')\n",
    "\n",
    "plt.ylabel('Frecuencia', fontfamily = 'serif', color = '#525252')\n",
    "\n",
    "\n",
    "sns.despine(offset = 10)\n",
    "\n",
    "plt.xticks(fontsize = 11.5, fontfamily = 'serif', color = '#525252')\n",
    "plt.yticks(fontsize = 11.5, fontfamily = 'serif', color = '#525252')\n",
    "plt.show()"
   ]
  },
  {
   "cell_type": "code",
   "execution_count": 29,
   "metadata": {},
   "outputs": [
    {
     "data": {
      "image/png": "[encoded data removed]",
      "text/plain": [
       "<Figure size 720x360 with 1 Axes>"
      ]
     },
     "metadata": {},
     "output_type": "display_data"
    }
   ],
   "source": [
    "tabla[lst[14]].plot(kind = 'hist', \n",
    "                   bins = 70, # 50, 60, 70, 100 \n",
    "                   figsize = (10,5))\n",
    "\n",
    "plt.title('HIstograma ' + lst[14], color = '#4f4f4f', fontsize = 25, \n",
    "             fontfamily = 'serif')\n",
    "\n",
    "plt.ylabel('Frecuencia', fontfamily = 'serif', color = '#525252')\n",
    "\n",
    "\n",
    "sns.despine(offset = 10)\n",
    "\n",
    "plt.xticks(fontsize = 11.5, fontfamily = 'serif', color = '#525252')\n",
    "plt.yticks(fontsize = 11.5, fontfamily = 'serif', color = '#525252')\n",
    "plt.show()"
   ]
  },
  {
   "cell_type": "code",
   "execution_count": 30,
   "metadata": {},
   "outputs": [
    {
     "data": {
      "text/plain": [
       "[(-230.0, 31863),\n",
       " (-229.0, 2787),\n",
       " (9999999769.99, 64),\n",
       " (-228.0, 16),\n",
       " (-227.0, 1)]"
      ]
     },
     "execution_count": 30,
     "metadata": {},
     "output_type": "execute_result"
    }
   ],
   "source": [
    "wc = cl.Counter(tabla[lst[14]])\n",
    "wc.most_common()"
   ]
  },
  {
   "cell_type": "markdown",
   "metadata": {},
   "source": [
    "---------\n",
    "Esta grafica parece ser clasificacion de algo, pues solo se acumula en ciertos puntos. \n",
    "Esto también se observa en tabla de ``describe()`` que sus percentiles caen en el mismo número pero el maximo cae en otro.\n",
    "Y por el conteo de este en la celda de arriba\n",
    "\n",
    "---------"
   ]
  },
  {
   "cell_type": "markdown",
   "metadata": {},
   "source": [
    "Al observar los datos de inversion cuando usamos el metodo ``decribe()`` , observamos que el percentil 75% está en el valor de 8.606820, y un maximo de 95052.396733, por lo qué restringiremos el dominio de la grafica pues se observa que tiene valores muy alejados del percentil 75%.\n",
    "\n",
    "Esto también se puede observar a traves de un boxplot.\n",
    "Además no graficaremos a aquellos que tengan inversion de 0 pues apalancan la grafica y no se llega a apreciar\n",
    "\n",
    "-------"
   ]
  },
  {
   "cell_type": "code",
   "execution_count": 31,
   "metadata": {},
   "outputs": [
    {
     "data": {
      "image/png": "[encoded data removed]",
      "text/plain": [
       "<Figure size 864x432 with 1 Axes>"
      ]
     },
     "metadata": {},
     "output_type": "display_data"
    }
   ],
   "source": [
    "fig, ax = plt.subplots(figsize=(12, 6))\n",
    "ax.hist(tabla[ (tabla['inversion'] > 0) & (tabla['inversion'] < 500) ].inversion, bins = 100)\n",
    "\n",
    "sns.despine(offset = {'bottom' : 15, 'left' : 0}, \n",
    "            trim = True)\n",
    "\n",
    "plt.title('Inversión', color = '#4f4f4f', fontsize = 25, \n",
    "             fontfamily = 'serif')\n",
    "\n",
    "plt.xticks(fontsize = 11, fontfamily = 'serif', color = '#525252')\n",
    "plt.yticks(fontsize = 11, fontfamily = 'serif', color = '#525252')\n",
    "plt.show()"
   ]
  },
  {
   "cell_type": "markdown",
   "metadata": {},
   "source": [
    "-------\n",
    "Por ultimo gurdaremos la tabla\n",
    "\n",
    "--------"
   ]
  },
  {
   "cell_type": "code",
   "execution_count": 32,
   "metadata": {},
   "outputs": [],
   "source": [
    "#tabla.to_csv('Tabla_limpia.csv')"
   ]
  },
  {
   "cell_type": "markdown",
   "metadata": {},
   "source": [
    "----------\n",
    "----------\n",
    "\n",
    "## Problema 2\n",
    "\n",
    "De la base data_schools sacar obtener el error estándar con Bootstrap de las variables de la base. Recordemos que tienen que simular N Muestras Boostrap con tamño n. Luego, el otro ejercicio es que lo hagan con n-1.\n",
    "\n",
    "\n",
    "- De tarea, obtener el error estandar de la correlacion y mostrar para que N la precisión con respecto a la correlación de la muestra total\n",
    "- Grafique los histogramas de las correlaciones\n",
    "- Grafique el  histograma pero sobre una muestra bostrap considerando la muestra completa"
   ]
  },
  {
   "cell_type": "code",
   "execution_count": 33,
   "metadata": {},
   "outputs": [],
   "source": [
    "import pandas as pd\n",
    "import numpy as np\n",
    "\n",
    "x = np.linspace(0,1, 6)\n",
    "\n",
    "bd_escuelas = pd.read_excel('data_schools.xlsx')"
   ]
  },
  {
   "cell_type": "code",
   "execution_count": 34,
   "metadata": {},
   "outputs": [
    {
     "data": {
      "text/html": [
       "<div>\n",
       "<style scoped>\n",
       "    .dataframe tbody tr th:only-of-type {\n",
       "        vertical-align: middle;\n",
       "    }\n",
       "\n",
       "    .dataframe tbody tr th {\n",
       "        vertical-align: top;\n",
       "    }\n",
       "\n",
       "    .dataframe thead th {\n",
       "        text-align: right;\n",
       "    }\n",
       "</style>\n",
       "<table border=\"1\" class=\"dataframe\">\n",
       "  <thead>\n",
       "    <tr style=\"text-align: right;\">\n",
       "      <th></th>\n",
       "      <th>escuela</th>\n",
       "      <th>LSAT</th>\n",
       "      <th>GPA</th>\n",
       "      <th>f_seleccion</th>\n",
       "    </tr>\n",
       "  </thead>\n",
       "  <tbody>\n",
       "    <tr>\n",
       "      <th>0</th>\n",
       "      <td>1</td>\n",
       "      <td>622</td>\n",
       "      <td>3.23</td>\n",
       "      <td>0</td>\n",
       "    </tr>\n",
       "    <tr>\n",
       "      <th>1</th>\n",
       "      <td>2</td>\n",
       "      <td>542</td>\n",
       "      <td>2.83</td>\n",
       "      <td>1</td>\n",
       "    </tr>\n",
       "    <tr>\n",
       "      <th>2</th>\n",
       "      <td>3</td>\n",
       "      <td>579</td>\n",
       "      <td>3.24</td>\n",
       "      <td>0</td>\n",
       "    </tr>\n",
       "    <tr>\n",
       "      <th>3</th>\n",
       "      <td>4</td>\n",
       "      <td>653</td>\n",
       "      <td>3.12</td>\n",
       "      <td>0</td>\n",
       "    </tr>\n",
       "    <tr>\n",
       "      <th>4</th>\n",
       "      <td>5</td>\n",
       "      <td>606</td>\n",
       "      <td>3.09</td>\n",
       "      <td>0</td>\n",
       "    </tr>\n",
       "    <tr>\n",
       "      <th>...</th>\n",
       "      <td>...</td>\n",
       "      <td>...</td>\n",
       "      <td>...</td>\n",
       "      <td>...</td>\n",
       "    </tr>\n",
       "    <tr>\n",
       "      <th>77</th>\n",
       "      <td>78</td>\n",
       "      <td>590</td>\n",
       "      <td>3.15</td>\n",
       "      <td>0</td>\n",
       "    </tr>\n",
       "    <tr>\n",
       "      <th>78</th>\n",
       "      <td>79</td>\n",
       "      <td>558</td>\n",
       "      <td>2.81</td>\n",
       "      <td>0</td>\n",
       "    </tr>\n",
       "    <tr>\n",
       "      <th>79</th>\n",
       "      <td>80</td>\n",
       "      <td>611</td>\n",
       "      <td>3.16</td>\n",
       "      <td>1</td>\n",
       "    </tr>\n",
       "    <tr>\n",
       "      <th>80</th>\n",
       "      <td>81</td>\n",
       "      <td>564</td>\n",
       "      <td>3.02</td>\n",
       "      <td>0</td>\n",
       "    </tr>\n",
       "    <tr>\n",
       "      <th>81</th>\n",
       "      <td>82</td>\n",
       "      <td>575</td>\n",
       "      <td>2.74</td>\n",
       "      <td>0</td>\n",
       "    </tr>\n",
       "  </tbody>\n",
       "</table>\n",
       "<p>82 rows × 4 columns</p>\n",
       "</div>"
      ],
      "text/plain": [
       "    escuela  LSAT   GPA  f_seleccion\n",
       "0         1   622  3.23            0\n",
       "1         2   542  2.83            1\n",
       "2         3   579  3.24            0\n",
       "3         4   653  3.12            0\n",
       "4         5   606  3.09            0\n",
       "..      ...   ...   ...          ...\n",
       "77       78   590  3.15            0\n",
       "78       79   558  2.81            0\n",
       "79       80   611  3.16            1\n",
       "80       81   564  3.02            0\n",
       "81       82   575  2.74            0\n",
       "\n",
       "[82 rows x 4 columns]"
      ]
     },
     "execution_count": 34,
     "metadata": {},
     "output_type": "execute_result"
    }
   ],
   "source": [
    "#Seleccionamos aleatoriamente 15 escuelas\n",
    "escuelas_random = bd_escuelas.sample(n = 15)[[\"escuela\"]]\n",
    "escuelas_random[\"f_seleccion\"]=1\n",
    "\n",
    "bd_escuelas=pd.merge(bd_escuelas, escuelas_random, how=\"left\", on=[\"escuela\"])\n",
    "bd_escuelas[\"f_seleccion\"]=bd_escuelas[\"f_seleccion\"].fillna(0)\n",
    "bd_escuelas[\"f_seleccion\"]=bd_escuelas[\"f_seleccion\"].astype(int)\n",
    "\n",
    "bd_escuelas"
   ]
  },
  {
   "cell_type": "markdown",
   "metadata": {},
   "source": [
    "### Consideraremos solo la muestra para estimar la correlación"
   ]
  },
  {
   "cell_type": "code",
   "execution_count": 35,
   "metadata": {},
   "outputs": [
    {
     "data": {
      "text/html": [
       "<div>\n",
       "<style scoped>\n",
       "    .dataframe tbody tr th:only-of-type {\n",
       "        vertical-align: middle;\n",
       "    }\n",
       "\n",
       "    .dataframe tbody tr th {\n",
       "        vertical-align: top;\n",
       "    }\n",
       "\n",
       "    .dataframe thead th {\n",
       "        text-align: right;\n",
       "    }\n",
       "</style>\n",
       "<table border=\"1\" class=\"dataframe\">\n",
       "  <thead>\n",
       "    <tr style=\"text-align: right;\">\n",
       "      <th></th>\n",
       "      <th>LSAT</th>\n",
       "      <th>GPA</th>\n",
       "    </tr>\n",
       "  </thead>\n",
       "  <tbody>\n",
       "    <tr>\n",
       "      <th>1</th>\n",
       "      <td>542</td>\n",
       "      <td>2.83</td>\n",
       "    </tr>\n",
       "    <tr>\n",
       "      <th>9</th>\n",
       "      <td>607</td>\n",
       "      <td>2.91</td>\n",
       "    </tr>\n",
       "    <tr>\n",
       "      <th>20</th>\n",
       "      <td>546</td>\n",
       "      <td>2.99</td>\n",
       "    </tr>\n",
       "    <tr>\n",
       "      <th>24</th>\n",
       "      <td>662</td>\n",
       "      <td>3.39</td>\n",
       "    </tr>\n",
       "    <tr>\n",
       "      <th>25</th>\n",
       "      <td>627</td>\n",
       "      <td>3.41</td>\n",
       "    </tr>\n",
       "    <tr>\n",
       "      <th>30</th>\n",
       "      <td>605</td>\n",
       "      <td>3.13</td>\n",
       "    </tr>\n",
       "    <tr>\n",
       "      <th>34</th>\n",
       "      <td>578</td>\n",
       "      <td>3.03</td>\n",
       "    </tr>\n",
       "    <tr>\n",
       "      <th>36</th>\n",
       "      <td>615</td>\n",
       "      <td>3.37</td>\n",
       "    </tr>\n",
       "    <tr>\n",
       "      <th>41</th>\n",
       "      <td>575</td>\n",
       "      <td>2.92</td>\n",
       "    </tr>\n",
       "    <tr>\n",
       "      <th>49</th>\n",
       "      <td>555</td>\n",
       "      <td>3.00</td>\n",
       "    </tr>\n",
       "    <tr>\n",
       "      <th>51</th>\n",
       "      <td>580</td>\n",
       "      <td>3.07</td>\n",
       "    </tr>\n",
       "    <tr>\n",
       "      <th>57</th>\n",
       "      <td>631</td>\n",
       "      <td>3.21</td>\n",
       "    </tr>\n",
       "    <tr>\n",
       "      <th>63</th>\n",
       "      <td>610</td>\n",
       "      <td>3.13</td>\n",
       "    </tr>\n",
       "    <tr>\n",
       "      <th>75</th>\n",
       "      <td>608</td>\n",
       "      <td>3.16</td>\n",
       "    </tr>\n",
       "    <tr>\n",
       "      <th>79</th>\n",
       "      <td>611</td>\n",
       "      <td>3.16</td>\n",
       "    </tr>\n",
       "  </tbody>\n",
       "</table>\n",
       "</div>"
      ],
      "text/plain": [
       "    LSAT   GPA\n",
       "1    542  2.83\n",
       "9    607  2.91\n",
       "20   546  2.99\n",
       "24   662  3.39\n",
       "25   627  3.41\n",
       "30   605  3.13\n",
       "34   578  3.03\n",
       "36   615  3.37\n",
       "41   575  2.92\n",
       "49   555  3.00\n",
       "51   580  3.07\n",
       "57   631  3.21\n",
       "63   610  3.13\n",
       "75   608  3.16\n",
       "79   611  3.16"
      ]
     },
     "execution_count": 35,
     "metadata": {},
     "output_type": "execute_result"
    }
   ],
   "source": [
    "tabla = bd_escuelas[bd_escuelas[\"f_seleccion\"] == 1][['LSAT', 'GPA']]\n",
    "tabla"
   ]
  },
  {
   "cell_type": "markdown",
   "metadata": {},
   "source": [
    "--------\n",
    "Haremos bootstrap sobre la **correlación de Pearson**  y lo haremos respecto a 100, 10,000  muestras bootstrap. Y después calculartemos el Error Estandar de la correlación\n",
    "\n",
    "--------"
   ]
  },
  {
   "cell_type": "markdown",
   "metadata": {},
   "source": [
    "Podemos obtener el error estándar del estimador de la siguiente manera\n",
    "$$\n",
    "\\begin{equation}\n",
    "\\widehat{se}_{\\rho} = \\frac{1 - \\widehat{corr}^{2}}{ \\sqrt{(n-3)}}\n",
    "\\end{equation}\n",
    "$$"
   ]
  },
  {
   "cell_type": "markdown",
   "metadata": {},
   "source": [
    "**Bootstrap con 100 muestras**\n",
    "\n",
    "------"
   ]
  },
  {
   "cell_type": "code",
   "execution_count": 36,
   "metadata": {},
   "outputs": [],
   "source": [
    "k = 100    # 100 mueestras bootstrap\n",
    "\n",
    "corr = np.zeros(k)\n",
    "\n",
    "for j in range(k):\n",
    "    corr[j] = tabla.sample(tabla.shape[0], replace = True).corr().values[0,1]"
   ]
  },
  {
   "cell_type": "code",
   "execution_count": 37,
   "metadata": {},
   "outputs": [
    {
     "data": {
      "image/png": "[encoded data removed]",
      "text/plain": [
       "<Figure size 864x432 with 1 Axes>"
      ]
     },
     "metadata": {},
     "output_type": "display_data"
    },
    {
     "name": "stdout",
     "output_type": "stream",
     "text": [
      "Promedio de la Muestra Bootstrap Correlación            =  0.79852\n",
      "Valor del Estadistico Correlación                       =  0.80938\n",
      "Desviación Estandar de la Muestra Bootstrap Correlación =  0.10461\n",
      "Intervalo de Confianza                                  =  (0.53675, 0.94607)\n"
     ]
    }
   ],
   "source": [
    "fig, ax = plt.subplots(figsize=(12, 6))\n",
    "ax.hist(corr, bins = 30, color = '#02B6C7', alpha = .5)\n",
    "\n",
    "sns.despine(offset = {'bottom' : 15, 'left' : 0}, trim = False)\n",
    "\n",
    "plt.suptitle('Bootstrap - Estadistico [Correlación] con 100 muestras', color = '#4f4f4f', fontsize = 25, \n",
    "             fontfamily = 'serif')\n",
    "\n",
    "est_puntual = np.mean(corr)\n",
    "plt.axvline(est_puntual, linestyle=\"--\",color = \"red\", linewidth=3, alpha=0.6, \n",
    "            label = f\"Estimador Puntual Correlación \\n{est_puntual:.5f}\")\n",
    "\n",
    "val_est = tabla.corr().values[0,1]\n",
    "\n",
    "plt.axvline(val_est, linestyle=\"--\",color = \"black\", linewidth = 3, alpha=0.6, \n",
    "            label = f\"Valor del Estadistico Correlación \\n{val_est:.5f}\")\n",
    "\n",
    "plt.axvline(np.percentile(corr,2.5),color = \"green\", linestyle=\"--\", linewidth = 3)                                                                                                                                                    \n",
    "plt.axvline(np.percentile(corr,97.5),color = \"green\", linestyle=\"--\", linewidth = 3) \n",
    "\n",
    "plt.xticks(x, fontsize = 11.5, fontfamily = 'serif', color = '#525252')\n",
    "plt.yticks(fontsize = 11.5, fontfamily = 'serif', color = '#525252')\n",
    "\n",
    "leg = plt.legend(fontsize = 12, bbox_to_anchor=(1.05, 1))\n",
    "for i in range(2):\n",
    "    leg.texts[i].set_color('#4f4f4f')\n",
    "    leg.texts[i].set_family('serif')\n",
    "\n",
    "plt.show()\n",
    "\n",
    "print(f\"Promedio de la Muestra Bootstrap Correlación            = {est_puntual: .5f}\")\n",
    "print(f\"Valor del Estadistico Correlación                       = {val_est: .5f}\")\n",
    "print(f'Desviación Estandar de la Muestra Bootstrap Correlación = {(1 - est_puntual**2)/np.sqrt(tabla.shape[0] - 3): .5f}')\n",
    "print(f'Intervalo de Confianza                                  =  ({np.percentile(corr,2.5):.5f},{np.percentile(corr,97.5): .5f})')"
   ]
  },
  {
   "cell_type": "markdown",
   "metadata": {},
   "source": [
    "------\n",
    "**Bootstrap con 10,000 muestras**\n",
    "\n",
    "------"
   ]
  },
  {
   "cell_type": "code",
   "execution_count": 38,
   "metadata": {},
   "outputs": [],
   "source": [
    "k = 10000    # 5,000 mueestras bootstrap\n",
    "\n",
    "corr_2 = np.zeros(k)\n",
    "\n",
    "for j in range(k):\n",
    "    corr_2[j] = tabla.sample(tabla.shape[0], replace = True).corr().values[0,1]"
   ]
  },
  {
   "cell_type": "code",
   "execution_count": 39,
   "metadata": {},
   "outputs": [
    {
     "data": {
      "image/png": "[encoded data removed]",
      "text/plain": [
       "<Figure size 864x432 with 1 Axes>"
      ]
     },
     "metadata": {},
     "output_type": "display_data"
    },
    {
     "name": "stdout",
     "output_type": "stream",
     "text": [
      "Promedio de la Muestra Bootstrap Correlación       =  0.80765\n",
      "Valor del Estadistico Correlación                  =  0.80938\n",
      "Error Estandar de la Muestra Bootstrap Correlación =  0.10037\n",
      "Intervalo de Confianza                             =  (0.57747, 0.94474)\n"
     ]
    }
   ],
   "source": [
    "fig, ax = plt.subplots(figsize=(12, 6))\n",
    "ax.hist(corr_2, bins = 30, color = '#02B6C7', alpha = .5)\n",
    "\n",
    "sns.despine(offset = {'bottom' : 15, 'left' : 0}, \n",
    "            trim = False)\n",
    "\n",
    "plt.suptitle('Bootstrap - Estadistico [Correlación] con 10,000 muestras', color = '#4f4f4f', fontsize = 25, \n",
    "             fontfamily = 'serif')\n",
    "\n",
    "est_puntual = np.mean(corr_2)\n",
    "plt.axvline(est_puntual, linestyle=\"--\",color = \"red\", linewidth=3, alpha=0.6, \n",
    "            label = f\"Estimador Puntual Correlación \\n{est_puntual:.5f}\")\n",
    "\n",
    "val_est = tabla.corr().values[0,1]\n",
    "\n",
    "plt.axvline(val_est, linestyle=\"--\",color = \"black\", linewidth = 3, alpha=0.6, \n",
    "            label = f\"Valor del Estadistico Correlación \\n{val_est:.5f}\")\n",
    "\n",
    "plt.axvline(np.percentile(corr_2,2.5),color = \"green\", linestyle=\"--\", linewidth = 3)                                                                                                                                                    \n",
    "plt.axvline(np.percentile(corr_2,97.5),color = \"green\", linestyle=\"--\", linewidth = 3) \n",
    "\n",
    "plt.xticks(x, fontsize = 11.5, fontfamily = 'serif', color = '#525252')\n",
    "plt.yticks(fontsize = 11.5, fontfamily = 'serif', color = '#525252')\n",
    "\n",
    "leg = plt.legend(fontsize = 12, bbox_to_anchor = (1.05, 1))\n",
    "\n",
    "for i in range(2):\n",
    "    leg.texts[i].set_color('#4f4f4f')\n",
    "    leg.texts[i].set_family('serif')\n",
    "\n",
    "plt.show()\n",
    "\n",
    "print(f\"Promedio de la Muestra Bootstrap Correlación       = {np.mean(corr_2): .5f}\")\n",
    "print(f\"Valor del Estadistico Correlación                  = {val_est: .5f}\")\n",
    "print(f'Error Estandar de la Muestra Bootstrap Correlación = {(1 - est_puntual**2)/np.sqrt(tabla.shape[0] - 3): .5f}')\n",
    "print(f'Intervalo de Confianza                             =  ({np.percentile(corr_2,2.5):.5f},{np.percentile(corr_2,97.5): .5f})')"
   ]
  },
  {
   "cell_type": "markdown",
   "metadata": {},
   "source": [
    "------\n",
    "Mientras haciamos multiples simulaciones notamos que había ocaciones que la muestra de 100 bootstrap caía muy cerca del estimador puntual de la correlación de la muestra de 15. Además de que el error estandar de la correlación bajó en la muestra de 10,000   \n",
    "\n",
    "------"
   ]
  },
  {
   "cell_type": "markdown",
   "metadata": {},
   "source": [
    "### Ahora sobre la población "
   ]
  },
  {
   "cell_type": "code",
   "execution_count": 40,
   "metadata": {},
   "outputs": [],
   "source": [
    "k = 100    # 20,000 mueestras bootstrap\n",
    "\n",
    "corr_3 = np.zeros(k)\n",
    "\n",
    "for j in range(k):\n",
    "    corr_3[j] = bd_escuelas.sample(bd_escuelas.shape[0], replace = True)[['LSAT', 'GPA']].corr().values[0,1]"
   ]
  },
  {
   "cell_type": "code",
   "execution_count": 41,
   "metadata": {},
   "outputs": [
    {
     "data": {
      "image/png": "[encoded data removed]",
      "text/plain": [
       "<Figure size 864x432 with 1 Axes>"
      ]
     },
     "metadata": {},
     "output_type": "display_data"
    },
    {
     "name": "stdout",
     "output_type": "stream",
     "text": [
      "Promedio de la Muestra Bootstrap Correlación       =  0.74178\n",
      "Valor del Estadistico Correlación                  =  0.76000\n",
      "Error Estandar de la Muestra Bootstrap Correlación =  0.05060\n",
      "Intervalo de Confianza                             =  (0.64865, 0.82871)\n"
     ]
    }
   ],
   "source": [
    "fig, ax = plt.subplots(figsize=(12, 6))\n",
    "ax.hist(corr_3, bins = 20, color = '#056871', alpha = .4)\n",
    "\n",
    "sns.despine(offset = {'bottom' : 15, 'left' : 0}, \n",
    "            trim = False)\n",
    "\n",
    "plt.suptitle('Bootstrap - Estadistico [Correlación] con 100 muestras', color = '#4f4f4f', fontsize = 25, \n",
    "             fontfamily = 'serif')\n",
    "\n",
    "est_puntual = np.mean(corr_3)\n",
    "plt.axvline(est_puntual, linestyle=\"--\",color = \"red\", linewidth=3, alpha=0.6, \n",
    "            label = f\"Estimador Puntual Correlación \\n{est_puntual:.5f}\")\n",
    "\n",
    "val_est = bd_escuelas[['LSAT', 'GPA']].corr().values[0,1]\n",
    "\n",
    "plt.axvline(val_est, linestyle=\"--\",color = \"black\", linewidth = 3, alpha=0.6, \n",
    "            label = f\"Valor del Estadistico Correlación \\n{val_est:.5f}\")\n",
    "\n",
    "plt.axvline(np.percentile(corr_3,2.5),color = \"green\", linestyle=\"--\", linewidth = 3)                                                                                                                                                    \n",
    "plt.axvline(np.percentile(corr_3,97.5),color = \"green\", linestyle=\"--\", linewidth = 3) \n",
    "\n",
    "plt.xticks(x, fontsize = 11.5, fontfamily = 'serif', color = '#525252')\n",
    "plt.yticks(fontsize = 11.5, fontfamily = 'serif', color = '#525252')\n",
    "\n",
    "leg = plt.legend(fontsize = 12, bbox_to_anchor=(1.05, 1))\n",
    "\n",
    "for i in range(2):\n",
    "    leg.texts[i].set_color('#4f4f4f')\n",
    "    leg.texts[i].set_family('serif')\n",
    "\n",
    "plt.show()\n",
    "\n",
    "print(f\"Promedio de la Muestra Bootstrap Correlación       = {np.mean(corr_3): .5f}\")\n",
    "print(f\"Valor del Estadistico Correlación                  = {val_est: .5f}\")\n",
    "print(f'Error Estandar de la Muestra Bootstrap Correlación = {(1 - est_puntual**2)/np.sqrt(bd_escuelas.shape[0] - 3): .5f}')\n",
    "print(f'Intervalo de Confianza                             =  ({np.percentile(corr_3,2.5):.5f},{np.percentile(corr_3,97.5): .5f})')"
   ]
  },
  {
   "cell_type": "code",
   "execution_count": 42,
   "metadata": {},
   "outputs": [],
   "source": [
    "k = 10000    # 20,000 mueestras bootstrap\n",
    "\n",
    "corr_4 = np.zeros(k)\n",
    "\n",
    "for j in range(k):\n",
    "    corr_4[j] = bd_escuelas.sample(bd_escuelas.shape[0], replace = True)[['LSAT', 'GPA']].corr().values[0,1]"
   ]
  },
  {
   "cell_type": "code",
   "execution_count": 43,
   "metadata": {},
   "outputs": [
    {
     "data": {
      "image/png": "[encoded data removed]",
      "text/plain": [
       "<Figure size 864x432 with 1 Axes>"
      ]
     },
     "metadata": {},
     "output_type": "display_data"
    },
    {
     "name": "stdout",
     "output_type": "stream",
     "text": [
      "Promedio de la Muestra Bootstrap Correlación       =  0.75745\n",
      "Valor del Estadistico Correlación                  =  0.76000\n",
      "Error Estandar de la Muestra Bootstrap Correlación =  0.04796\n",
      "Intervalo de Confianza                             =  (0.64429, 0.84602)\n"
     ]
    }
   ],
   "source": [
    "fig, ax = plt.subplots(figsize=(12, 6))\n",
    "ax.hist(corr_4, bins = 20, color = '#056871', alpha = .4)\n",
    "\n",
    "sns.despine(offset = {'bottom' : 15, 'left' : 0}, \n",
    "            trim = False)\n",
    "\n",
    "plt.suptitle('Bootstrap - Estadistico [Correlación] con 10,000 muestras', color = '#4f4f4f', fontsize = 25, \n",
    "             fontfamily = 'serif')\n",
    "\n",
    "est_puntual = np.mean(corr_4)\n",
    "plt.axvline(est_puntual, linestyle=\"--\",color = \"red\", linewidth=3, alpha=0.6, \n",
    "            label = f\"Estimador Puntual Correlación \\n{est_puntual:.5f}\")\n",
    "\n",
    "val_est = bd_escuelas[['LSAT', 'GPA']].corr().values[0,1]\n",
    "\n",
    "plt.axvline(val_est, linestyle=\"--\",color = \"black\", linewidth = 3, alpha=0.6, \n",
    "            label = f\"Valor del Estadistico Correlación \\n{val_est:.5f}\")\n",
    "\n",
    "plt.axvline(np.percentile(corr_4,2.5),color = \"green\", linestyle=\"--\", linewidth = 3)                                                                                                                                                    \n",
    "plt.axvline(np.percentile(corr_4,97.5),color = \"green\", linestyle=\"--\", linewidth = 3) \n",
    "\n",
    "plt.xticks(x, fontsize = 11.5, fontfamily = 'serif', color = '#525252')\n",
    "plt.yticks(fontsize = 11.5, fontfamily = 'serif', color = '#525252')\n",
    "\n",
    "leg = plt.legend(fontsize = 12, bbox_to_anchor=(1.05, 1))\n",
    "\n",
    "for i in range(2):\n",
    "    leg.texts[i].set_color('#4f4f4f')\n",
    "    leg.texts[i].set_family('serif')\n",
    "\n",
    "plt.show()\n",
    "\n",
    "print(f\"Promedio de la Muestra Bootstrap Correlación       = {np.mean(corr_4): .5f}\")\n",
    "print(f\"Valor del Estadistico Correlación                  = {val_est: .5f}\")\n",
    "print(f'Error Estandar de la Muestra Bootstrap Correlación = {(1 - est_puntual**2)/np.sqrt(bd_escuelas.shape[0] - 3): .5f}')\n",
    "print(f'Intervalo de Confianza                             =  ({np.percentile(corr_4,2.5):.5f},{np.percentile(corr_4,97.5): .5f})')"
   ]
  },
  {
   "cell_type": "markdown",
   "metadata": {},
   "source": [
    "# Jack - Knife sobre la población total "
   ]
  },
  {
   "cell_type": "code",
   "execution_count": 44,
   "metadata": {},
   "outputs": [],
   "source": [
    "k = bd_escuelas.shape[0]    # 20,000 mueestras bootstrap\n",
    "\n",
    "corr_5 = np.zeros(k)\n",
    "for j in range(1,k-1):\n",
    "    corr_5[j] = bd_escuelas.loc[j:, ['LSAT', 'GPA']].corr().values[0,1]"
   ]
  },
  {
   "cell_type": "code",
   "execution_count": 45,
   "metadata": {},
   "outputs": [
    {
     "data": {
      "image/png": "[encoded data removed]",
      "text/plain": [
       "<Figure size 864x432 with 1 Axes>"
      ]
     },
     "metadata": {},
     "output_type": "display_data"
    },
    {
     "name": "stdout",
     "output_type": "stream",
     "text": [
      "Promedio de la Muestra Jack Knife Correlación      =  0.74913\n",
      "Valor del Estadistico Correlación                  =  0.76000\n",
      "Error Estandar de la Muestra Jack Nife Correlación =  0.12667\n",
      "Intervalo de Confianza                             =  (0.01476, 0.83524)\n"
     ]
    }
   ],
   "source": [
    "fig, ax = plt.subplots(figsize=(12, 6))\n",
    "ax.hist(corr_5, bins = 70, color = '#056871', alpha = .4)\n",
    "\n",
    "sns.despine(offset = {'bottom' : 15, 'left' : 0})\n",
    "\n",
    "plt.suptitle('Jack Knife - Estadistico [Correlación]', color = '#4f4f4f', fontsize = 25, \n",
    "             fontfamily = 'serif')\n",
    "\n",
    "est_puntual = np.mean(corr_5)\n",
    "plt.axvline(est_puntual, linestyle=\"--\",color = \"red\", linewidth = 3, alpha = 0.6, \n",
    "            label = f\"Estimador Puntual Correlación \\n{est_puntual:.5f}\")\n",
    "\n",
    "val_est = bd_escuelas[['LSAT', 'GPA']].corr().values[0,1]\n",
    "\n",
    "plt.axvline(val_est, linestyle=\"--\",color = \"black\", linewidth = 3, alpha=0.6, \n",
    "            label = f\"Valor del Estadistico Correlación \\n{val_est:.5f}\")\n",
    "\n",
    "plt.axvline(np.percentile(corr_3,2.5),color = \"green\", linestyle=\"--\", linewidth = 3)                                                                                                                                                    \n",
    "plt.axvline(np.percentile(corr_3,97.5),color = \"green\", linestyle=\"--\", linewidth = 3) \n",
    "\n",
    "plt.xticks(fontsize = 11.5, fontfamily = 'serif', color = '#525252')\n",
    "plt.yticks(fontsize = 11.5, fontfamily = 'serif', color = '#525252')\n",
    "\n",
    "leg = plt.legend(fontsize = 12, bbox_to_anchor=(1.05, 1))\n",
    "\n",
    "for i in range(2):\n",
    "    leg.texts[i].set_color('#4f4f4f')\n",
    "    leg.texts[i].set_family('serif')\n",
    "\n",
    "plt.show()\n",
    "\n",
    "print(f\"Promedio de la Muestra Jack Knife Correlación      = {np.mean(corr_5): .5f}\")\n",
    "print(f\"Valor del Estadistico Correlación                  = {val_est: .5f}\")\n",
    "print(f'Error Estandar de la Muestra Jack Nife Correlación = {(1 - est_puntual**2)/np.sqrt(tabla.shape[0] - 3): .5f}')\n",
    "print(f'Intervalo de Confianza                             =  ({np.percentile(corr_5,2.5):.5f},{np.percentile(corr_5,97.5): .5f})')"
   ]
  },
  {
   "cell_type": "markdown",
   "metadata": {},
   "source": [
    "-------\n",
    "De esto que podemos obtener ? \n",
    "\n",
    "Que el estimador de la correlacion de la poblacio total es de : **0.76**\n",
    "\n",
    "Y el estimador de la muestra de 15 arrojaba                   : **0.80938** por lo que la muestra no era tan representativa, además  de que los estimadores puntuales de las simulaciones bootstrap sobre la muestra de 15 datos nos marcaron valores de **0.79852** y **0.80765** muy cercanos a la correlacion de la muestra de 15.\n",
    "\n",
    "También notamos que el Bootstrap respecto a la población total mientras más simulabamos pues el estimador puntual se acercaba más al estadistico.\n",
    "\n",
    "Y sobre bootstrap se trabajó sobre la poblacion parece haber trabajado bien, nos marcó un valor de **0.74913** cercano al **0.76** "
   ]
  },
  {
   "cell_type": "markdown",
   "metadata": {},
   "source": [
    "------\n",
    "------\n",
    "## Problema 3"
   ]
  },
  {
   "cell_type": "code",
   "execution_count": 46,
   "metadata": {},
   "outputs": [],
   "source": [
    "from sklearn.linear_model import LinearRegression"
   ]
  },
  {
   "cell_type": "code",
   "execution_count": 47,
   "metadata": {},
   "outputs": [
    {
     "data": {
      "text/plain": [
       "LinearRegression()"
      ]
     },
     "execution_count": 47,
     "metadata": {},
     "output_type": "execute_result"
    }
   ],
   "source": [
    "X = bd_escuelas[['LSAT']]\n",
    "y = bd_escuelas[['GPA']]\n",
    "\n",
    "reg = LinearRegression()\n",
    "reg.fit(X, y)"
   ]
  },
  {
   "cell_type": "code",
   "execution_count": 49,
   "metadata": {},
   "outputs": [],
   "source": [
    "y_hat = reg.predict(X).reshape(-1)\n",
    "x = X.to_numpy().reshape(-1)\n",
    "\n",
    "y_real = y.to_numpy().reshape(-1)\n",
    "n = len(y_real)\n",
    "residuals = y_real - y_hat"
   ]
  },
  {
   "cell_type": "code",
   "execution_count": 50,
   "metadata": {},
   "outputs": [],
   "source": [
    "X_with_intercept = np.empty(shape=(n, 2))\n",
    "X_with_intercept[:, 0] = 1\n",
    "X_with_intercept[:, 1] = x"
   ]
  },
  {
   "cell_type": "markdown",
   "metadata": {},
   "source": [
    "Podemos obtener el error estándar del estimador de la siguiente manera\n",
    "$$\n",
    "\\begin{equation}\n",
    "\\widehat{se}_{\\beta_{0,1}}= \\sqrt{(X^{T}X)^{-1}\\hat{\\sigma}^{2}}\n",
    "\\end{equation}\n",
    "$$\n",
    "\n",
    "donde \n",
    "\n",
    "$$\n",
    "\\begin{equation}\n",
    "\\hat{\\sigma}^{2}= \\frac{e^{T} e}{n-2} \n",
    "\\end{equation}\n",
    "$$"
   ]
  },
  {
   "cell_type": "code",
   "execution_count": 51,
   "metadata": {},
   "outputs": [
    {
     "name": "stdout",
     "output_type": "stream",
     "text": [
      "SE(beta_hat[0]): 0.21421814196716396\n",
      "SE(beta_hat[1]): 0.0003577625024658633\n"
     ]
    }
   ],
   "source": [
    "residual_sum_of_squares = residuals.T @ residuals\n",
    "sigma_squared_hat = residual_sum_of_squares / (n - 2)\n",
    "var_beta_hat = np.linalg.inv(X_with_intercept.T @ X_with_intercept) * sigma_squared_hat\n",
    "for p_ in range(2):\n",
    "    standard_error = var_beta_hat[p_, p_] ** 0.5\n",
    "    print(f\"SE(beta_hat[{p_}]): {standard_error}\")"
   ]
  },
  {
   "cell_type": "code",
   "execution_count": 53,
   "metadata": {},
   "outputs": [
    {
     "data": {
      "image/png": "[encoded data removed]",
      "text/plain": [
       "<Figure size 864x432 with 1 Axes>"
      ]
     },
     "metadata": {},
     "output_type": "display_data"
    }
   ],
   "source": [
    "fig, ax = plt.subplots(figsize=(12, 6))\n",
    "plt.scatter(X, y,s = 30)\n",
    "plt.plot(x, y_hat, color='red')\n",
    "\n",
    "plt.suptitle('Regresión', color = '#4f4f4f', fontsize = 25, \n",
    "             fontfamily = 'serif')\n",
    "\n",
    "sns.despine(offset = {'bottom' : 15, 'left' : 0}, \n",
    "            trim = True)\n",
    "\n",
    "plt.xlabel(\"LSTA\", fontsize = 12, fontfamily = 'serif', color = '#525252')\n",
    "plt.ylabel(\"GPA\", fontsize = 12, fontfamily = 'serif', color = '#525252')\n",
    "plt.xticks(fontsize = 11.5, fontfamily = 'serif', color = '#525252')\n",
    "plt.yticks(fontsize = 11.5, fontfamily = 'serif', color = '#525252')\n",
    "\n",
    "plt.show()"
   ]
  },
  {
   "cell_type": "code",
   "execution_count": 55,
   "metadata": {},
   "outputs": [],
   "source": [
    "df = pd.DataFrame(residuals, columns=['residual'])\n",
    "df[\"x\"] = x"
   ]
  },
  {
   "cell_type": "code",
   "execution_count": 56,
   "metadata": {},
   "outputs": [],
   "source": [
    "simul = 10000\n",
    "res_boost = np.zeros((simul,2))\n",
    "\n",
    "for i in range(0,simul):\n",
    "    df_aux = df.sample(n, replace = True)\n",
    "    \n",
    "    x_i = df_aux[[\"x\"]].to_numpy().reshape(-1)\n",
    "    r_i = df_aux[[\"residual\"]].to_numpy().reshape(-1)\n",
    "    \n",
    "    X_with_intercept_ = np.empty(shape = (n, 2))\n",
    "    X_with_intercept_[:, 0] = 1\n",
    "    X_with_intercept_[:, 1] = x_i\n",
    "    \n",
    "    residual_sum_of_squares_ = r_i.T @ r_i\n",
    "    sigma_squared_hat_ = residual_sum_of_squares_ / (n - 2)\n",
    "    var_beta_hat_ = np.linalg.inv(X_with_intercept_.T @ X_with_intercept_) * sigma_squared_hat_\n",
    "\n",
    "    res_boost[i,0] = var_beta_hat_[0, 0] ** 0.5\n",
    "    res_boost[i,1] = var_beta_hat_[1, 1] ** 0.5"
   ]
  },
  {
   "cell_type": "code",
   "execution_count": 57,
   "metadata": {},
   "outputs": [
    {
     "name": "stdout",
     "output_type": "stream",
     "text": [
      "\n",
      "\n"
     ]
    },
    {
     "data": {
      "image/png": "[encoded data removed]",
      "text/plain": [
       "<Figure size 864x432 with 1 Axes>"
      ]
     },
     "metadata": {},
     "output_type": "display_data"
    },
    {
     "name": "stdout",
     "output_type": "stream",
     "text": [
      "Error Estándar sin Bootsrap                         = 0.21421814196716396\n",
      "Promedio de Error Estándar de la muestras Bootstrap = 0.21783884821885513\n",
      "Intervalo de Confianza                              = (0.17012, 0.27531)\n",
      "\n",
      "\n"
     ]
    },
    {
     "data": {
      "image/png": "[encoded data removed]",
      "text/plain": [
       "<Figure size 864x432 with 1 Axes>"
      ]
     },
     "metadata": {},
     "output_type": "display_data"
    },
    {
     "name": "stdout",
     "output_type": "stream",
     "text": [
      "Error Estándar sin Bootsrap                         = 0.0003577625024658633\n",
      "Promedio de Error Estándar de la muestras Bootstrap = 0.0003638584041183656\n",
      "Intervalo de Confianza                              = (0.00028, 0.00046)\n"
     ]
    }
   ],
   "source": [
    "for i in range(2):    \n",
    "    print('\\n')\n",
    "    fig, ax = plt.subplots(figsize=(12, 6))\n",
    "\n",
    "    plt.suptitle(\"Error estándar Boostrap \" + r'$\\beta_{}$'.format(i), color = '#4f4f4f', fontsize = 25, \n",
    "                 fontfamily = 'serif')\n",
    "\n",
    "    plt.hist(res_boost[:,i], bins = 100, alpha = 0.5, edgecolor = \"white\")\n",
    "\n",
    "    #plt.axvline(x = err_reg, color = 'black', linestyle='--', linewidth = 3, \n",
    "    #            label = f\"Estimador Puntual Error Estandar r'\\beta ' \\n{np.mean(res_boost):.5f}\")\n",
    "    plt.axvline(x = np.mean(res_boost[:,i]), color = 'red', linestyle='--', linewidth = 3, \n",
    "                label = \"Estimador Puntual Error \\nEstandar \" + r'$\\beta_{}$'.format(i) + f'\\n{np.mean(res_boost[:,i]):.10f}')\n",
    "\n",
    "    plt.axvline(x = var_beta_hat[i,i] ** 0.5, color='black', linestyle='--', linewidth = 3,\n",
    "                label = f\"Valor del Estadistico Error \\nEstandar \" + r'$\\beta_{}$'.format(i) + f'\\n{var_beta_hat[i,i] ** 0.5:.10f}')\n",
    "\n",
    "    plt.axvline(np.percentile(res_boost[:,i],2.5), color = \"green\", linestyle=\"--\",linewidth = 3)                                                                                                                                                    \n",
    "    plt.axvline(np.percentile(res_boost[:,i],97.5), color = \"green\", linestyle=\"--\",linewidth = 3) \n",
    "\n",
    "    sns.despine(offset = {'bottom' : 15, 'left' : 0},  trim = True)\n",
    "\n",
    "    plt.xticks(fontsize = 11.5, fontfamily = 'serif', color = '#525252')\n",
    "    plt.yticks(fontsize = 11.5, fontfamily = 'serif', color = '#525252')\n",
    "\n",
    "    leg = plt.legend(fontsize = 12, bbox_to_anchor=(1.05, 1)) \n",
    "\n",
    "    for j in range(2):\n",
    "        leg.texts[j].set_color('#4f4f4f')\n",
    "        leg.texts[j].set_family('serif')\n",
    "\n",
    "    plt.show()\n",
    "    print(\"Error Estándar sin Bootsrap                         =\", var_beta_hat[i,i] ** 0.5)\n",
    "    print(\"Promedio de Error Estándar de la muestras Bootstrap =\", np.mean(res_boost[:,i]))\n",
    "    print(f'Intervalo de Confianza                              = ({np.percentile(res_boost[:,i],2.5):.5f},{np.percentile(res_boost[:,i],97.5): .5f})')"
   ]
  },
  {
   "cell_type": "code",
   "execution_count": null,
   "metadata": {},
   "outputs": [],
   "source": []
  }
 ],
 "metadata": {
  "kernelspec": {
   "display_name": "Python 3 (ipykernel)",
   "language": "python",
   "name": "python3"
  },
  "language_info": {
   "codemirror_mode": {
    "name": "ipython",
    "version": 3
   },
   "file_extension": ".py",
   "mimetype": "text/x-python",
   "name": "python",
   "nbconvert_exporter": "python",
   "pygments_lexer": "ipython3",
   "version": "3.8.5"
  }
 },
 "nbformat": 4,
 "nbformat_minor": 4
}

